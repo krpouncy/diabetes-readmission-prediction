{
 "nbformat": 4,
 "nbformat_minor": 0,
 "metadata": {
  "colab": {
   "provenance": [],
   "toc_visible": true
  },
  "kernelspec": {
   "name": "python3",
   "display_name": "Python 3 (ipykernel)",
   "language": "python"
  },
  "language_info": {
   "name": "python"
  }
 },
 "cells": [
  {
   "metadata": {},
   "cell_type": "markdown",
   "source": "# Initial Data Preparation"
  },
  {
   "cell_type": "markdown",
   "source": "## Code Setup",
   "metadata": {
    "id": "ry6SuXD26o5v"
   }
  },
  {
   "cell_type": "markdown",
   "source": [
    "First, let's download the necessary libraries."
   ],
   "metadata": {
    "id": "QzIwbNY_0aIB"
   }
  },
  {
   "cell_type": "code",
   "metadata": {
    "colab": {
     "base_uri": "https://localhost:8080/"
    },
    "id": "i0JXllb5y-bl",
    "outputId": "ecf3bf31-6832-41ff-8388-c0d7542e7eec",
    "ExecuteTime": {
     "end_time": "2024-10-03T23:39:09.015895Z",
     "start_time": "2024-10-03T23:39:04.229172Z"
    }
   },
   "source": [
    "import pandas as pd\n",
    "from scipy.stats import chi2_contingency, mannwhitneyu\n",
    "from ucimlrepo import fetch_ucirepo\n",
    "\n",
    "!pip install ucimlrepo\n",
    "!pip install icd9cms\n",
    "\n",
    "# https://pypi.org/project/icd9cms/\n",
    "import icd9cms"
   ],
   "outputs": [
    {
     "name": "stdout",
     "output_type": "stream",
     "text": [
      "Requirement already satisfied: ucimlrepo in c:\\users\\krpou\\anaconda3\\envs\\pycharm_env\\lib\\site-packages (0.0.7)\n",
      "Requirement already satisfied: pandas>=1.0.0 in c:\\users\\krpou\\anaconda3\\envs\\pycharm_env\\lib\\site-packages (from ucimlrepo) (2.0.3)\n",
      "Requirement already satisfied: certifi>=2020.12.5 in c:\\users\\krpou\\anaconda3\\envs\\pycharm_env\\lib\\site-packages (from ucimlrepo) (2024.8.30)\n",
      "Requirement already satisfied: python-dateutil>=2.8.2 in c:\\users\\krpou\\anaconda3\\envs\\pycharm_env\\lib\\site-packages (from pandas>=1.0.0->ucimlrepo) (2.9.0.post0)\n",
      "Requirement already satisfied: pytz>=2020.1 in c:\\users\\krpou\\anaconda3\\envs\\pycharm_env\\lib\\site-packages (from pandas>=1.0.0->ucimlrepo) (2024.2)\n",
      "Requirement already satisfied: tzdata>=2022.1 in c:\\users\\krpou\\anaconda3\\envs\\pycharm_env\\lib\\site-packages (from pandas>=1.0.0->ucimlrepo) (2024.2)\n",
      "Requirement already satisfied: numpy>=1.20.3 in c:\\users\\krpou\\anaconda3\\envs\\pycharm_env\\lib\\site-packages (from pandas>=1.0.0->ucimlrepo) (1.24.3)\n",
      "Requirement already satisfied: six>=1.5 in c:\\users\\krpou\\anaconda3\\envs\\pycharm_env\\lib\\site-packages (from python-dateutil>=2.8.2->pandas>=1.0.0->ucimlrepo) (1.16.0)\n",
      "Requirement already satisfied: icd9cms in c:\\users\\krpou\\anaconda3\\envs\\pycharm_env\\lib\\site-packages (0.2.1)\n",
      "Requirement already satisfied: pandas in c:\\users\\krpou\\anaconda3\\envs\\pycharm_env\\lib\\site-packages (from icd9cms) (2.0.3)\n",
      "Requirement already satisfied: bs4 in c:\\users\\krpou\\anaconda3\\envs\\pycharm_env\\lib\\site-packages (from icd9cms) (0.0.2)\n",
      "Requirement already satisfied: requests in c:\\users\\krpou\\anaconda3\\envs\\pycharm_env\\lib\\site-packages (from icd9cms) (2.32.3)\n",
      "Requirement already satisfied: beautifulsoup4 in c:\\users\\krpou\\anaconda3\\envs\\pycharm_env\\lib\\site-packages (from bs4->icd9cms) (4.12.3)\n",
      "Requirement already satisfied: python-dateutil>=2.8.2 in c:\\users\\krpou\\anaconda3\\envs\\pycharm_env\\lib\\site-packages (from pandas->icd9cms) (2.9.0.post0)\n",
      "Requirement already satisfied: pytz>=2020.1 in c:\\users\\krpou\\anaconda3\\envs\\pycharm_env\\lib\\site-packages (from pandas->icd9cms) (2024.2)\n",
      "Requirement already satisfied: tzdata>=2022.1 in c:\\users\\krpou\\anaconda3\\envs\\pycharm_env\\lib\\site-packages (from pandas->icd9cms) (2024.2)\n",
      "Requirement already satisfied: numpy>=1.20.3 in c:\\users\\krpou\\anaconda3\\envs\\pycharm_env\\lib\\site-packages (from pandas->icd9cms) (1.24.3)\n",
      "Requirement already satisfied: charset-normalizer<4,>=2 in c:\\users\\krpou\\anaconda3\\envs\\pycharm_env\\lib\\site-packages (from requests->icd9cms) (3.3.2)\n",
      "Requirement already satisfied: idna<4,>=2.5 in c:\\users\\krpou\\anaconda3\\envs\\pycharm_env\\lib\\site-packages (from requests->icd9cms) (3.10)\n",
      "Requirement already satisfied: urllib3<3,>=1.21.1 in c:\\users\\krpou\\anaconda3\\envs\\pycharm_env\\lib\\site-packages (from requests->icd9cms) (2.2.3)\n",
      "Requirement already satisfied: certifi>=2017.4.17 in c:\\users\\krpou\\anaconda3\\envs\\pycharm_env\\lib\\site-packages (from requests->icd9cms) (2024.8.30)\n",
      "Requirement already satisfied: six>=1.5 in c:\\users\\krpou\\anaconda3\\envs\\pycharm_env\\lib\\site-packages (from python-dateutil>=2.8.2->pandas->icd9cms) (1.16.0)\n",
      "Requirement already satisfied: soupsieve>1.2 in c:\\users\\krpou\\anaconda3\\envs\\pycharm_env\\lib\\site-packages (from beautifulsoup4->bs4->icd9cms) (2.6)\n"
     ]
    }
   ],
   "execution_count": 173
  },
  {
   "cell_type": "code",
   "source": [
    "import matplotlib.pyplot as plt\n",
    "from matplotlib.lines import Line2D\n",
    "\n",
    "# This will be used for plotting\n",
    "def plot_odds_ratios(model, title='Odds Ratios', xlabel='Odds Ratio (OR)', ylabel='Variables', significance_level=0.05, figsize=(8, 6), name=None):\n",
    "    \"\"\"\n",
    "    Plots odds ratios with confidence intervals from a fitted logistic regression model.\n",
    "    Parameters:\n",
    "    - model: Fitted statsmodels logistic regression model.\n",
    "    - title: Title of the plot.\n",
    "    - xlabel: Label for the x-axis.\n",
    "    - ylabel: Label for the y-axis.\n",
    "    - significance_level: Threshold for statistical significance.\n",
    "    - figsize: Size of the plot.\n",
    "    \"\"\"\n",
    "    # Extract coefficients, confidence intervals, and p-values\n",
    "    params = model.params\n",
    "    conf = model.conf_int()\n",
    "    conf.columns = ['CI_lower', 'CI_upper']\n",
    "    p_values = model.pvalues\n",
    "\n",
    "    # Calculate odds ratios and their confidence intervals\n",
    "    odds_ratios = np.exp(params)\n",
    "    conf_odds = np.exp(conf)\n",
    "\n",
    "    # Create a DataFrame for plotting\n",
    "    results = pd.DataFrame({\n",
    "        'OR': odds_ratios,\n",
    "        'CI_lower': conf_odds['CI_lower'],\n",
    "        'CI_upper': conf_odds['CI_upper'],\n",
    "        'p_value': p_values\n",
    "    })\n",
    "\n",
    "    # Remove the intercept\n",
    "    if 'const' in results.index:\n",
    "        results = results.drop('const')\n",
    "\n",
    "    # Determine significance\n",
    "    results['Significant'] = results['p_value'] < significance_level\n",
    "\n",
    "    # Plotting\n",
    "    plt.figure(figsize=figsize)\n",
    "    plt.grid(False)\n",
    "    # Plot each variable\n",
    "    for idx, row in results.iterrows():\n",
    "        plt.errorbar(row['OR'], idx,\n",
    "                     xerr=[[row['OR'] - row['CI_lower']], [row['CI_upper'] - row['OR']]],\n",
    "                     fmt='o',\n",
    "                     color='blue' if row['Significant'] else 'grey',\n",
    "                     ecolor='grey',\n",
    "                     elinewidth=2,\n",
    "                     capsize=8)\n",
    "\n",
    "    # Add a vertical line at OR = 1\n",
    "    plt.axvline(x=1, color='red', linestyle='--')\n",
    "\n",
    "    # Set y-ticks to variable names\n",
    "    plt.yticks(range(len(results)), results.index)\n",
    "    plt.ylim(-0.5, len(results) - 0.5)  # Add some padding around the top and bottom\n",
    "\n",
    "    # Labels and title\n",
    "    plt.xlabel(xlabel)\n",
    "    plt.ylabel(ylabel)\n",
    "    plt.title(title)\n",
    "\n",
    "    # Create custom legend\n",
    "    legend_elements = [\n",
    "        Line2D([0], [0], marker='o', color='w', label=f'Significant (p < {significance_level})',\n",
    "               markerfacecolor='blue', markersize=8),\n",
    "        Line2D([0], [0], marker='o', color='w', label=f'Not Significant (p ≥ {significance_level})',\n",
    "               markerfacecolor='grey', markersize=8)\n",
    "    ]\n",
    "    plt.legend(handles=legend_elements, loc='best')\n",
    "\n",
    "    # Adjust layout and display\n",
    "    plt.tight_layout()\n",
    "    plt.show()"
   ],
   "metadata": {
    "id": "gX4cJ5ze6XIY",
    "ExecuteTime": {
     "end_time": "2024-10-03T23:39:09.234690Z",
     "start_time": "2024-10-03T23:39:09.207136Z"
    }
   },
   "outputs": [],
   "execution_count": 174
  },
  {
   "cell_type": "markdown",
   "source": "## Load Data Set",
   "metadata": {
    "id": "LhZaVc-A0JnL"
   }
  },
  {
   "cell_type": "code",
   "source": [
    "# Fetch dataset.\n",
    "diabetes_130_us_hospitals_for_years_1999_2008 = fetch_ucirepo(id=296)\n",
    "\n",
    "# Import and initialize data set\n",
    "X = diabetes_130_us_hospitals_for_years_1999_2008.data.features\n",
    "y = diabetes_130_us_hospitals_for_years_1999_2008.data.targets\n",
    "\n",
    "raw_df = pd.concat([X, y], axis=1)"
   ],
   "metadata": {
    "id": "_NxX3nWE0C68",
    "colab": {
     "base_uri": "https://localhost:8080/"
    },
    "outputId": "2f95a17b-4eed-45f4-9930-33c452d011ff",
    "ExecuteTime": {
     "end_time": "2024-10-03T23:39:23.105801Z",
     "start_time": "2024-10-03T23:39:09.438838Z"
    }
   },
   "outputs": [
    {
     "name": "stderr",
     "output_type": "stream",
     "text": [
      "C:\\Users\\krpou\\anaconda3\\envs\\pycharm_env\\lib\\site-packages\\ucimlrepo\\fetch.py:97: DtypeWarning: Columns (10) have mixed types. Specify dtype option on import or set low_memory=False.\n",
      "  df = pd.read_csv(data_url)\n"
     ]
    }
   ],
   "execution_count": 175
  },
  {
   "cell_type": "markdown",
   "source": "## Create Dataset",
   "metadata": {
    "id": "drqHtzptWI13"
   }
  },
  {
   "cell_type": "code",
   "source": [
    "# Copies original data set.\n",
    "clean_df = raw_df.copy()"
   ],
   "metadata": {
    "id": "fnNB3vL5DY-P",
    "ExecuteTime": {
     "end_time": "2024-10-03T23:39:23.415070Z",
     "start_time": "2024-10-03T23:39:23.341802Z"
    }
   },
   "outputs": [],
   "execution_count": 176
  },
  {
   "metadata": {},
   "cell_type": "markdown",
   "source": "1. Remove the Variables with > 90% missing values"
  },
  {
   "metadata": {
    "ExecuteTime": {
     "end_time": "2024-10-03T23:39:23.758736Z",
     "start_time": "2024-10-03T23:39:23.652197Z"
    }
   },
   "cell_type": "code",
   "source": [
    "missing_var_percentage = (raw_df.isna().sum() / raw_df.shape[0])\n",
    "missing_var_percentage[missing_var_percentage > 0.9].sort_values(ascending=False)"
   ],
   "outputs": [
    {
     "data": {
      "text/plain": [
       "weight           0.968585\n",
       "max_glu_serum    0.947468\n",
       "dtype: float64"
      ]
     },
     "execution_count": 177,
     "metadata": {},
     "output_type": "execute_result"
    }
   ],
   "execution_count": 177
  },
  {
   "cell_type": "code",
   "source": [
    "# Remove these columns\n",
    "clean_df.drop([\"weight\", \"max_glu_serum\"], axis=1, inplace=True, errors=\"ignore\")\n",
    "\n",
    "# Check to see if they are still there\n",
    "missing_var_percentage = (clean_df.isna().sum() / clean_df.shape[0])\n",
    "missing_var_percentage[missing_var_percentage > 0.9].sort_values(ascending=False)"
   ],
   "metadata": {
    "colab": {
     "base_uri": "https://localhost:8080/",
     "height": 84
    },
    "id": "IYIa_ejLUKMP",
    "outputId": "f7f417ea-58e1-4201-8da4-3c8a8cc02bf2",
    "ExecuteTime": {
     "end_time": "2024-10-03T23:39:24.146912Z",
     "start_time": "2024-10-03T23:39:24.024744Z"
    }
   },
   "outputs": [
    {
     "data": {
      "text/plain": [
       "Series([], dtype: float64)"
      ]
     },
     "execution_count": 178,
     "metadata": {},
     "output_type": "execute_result"
    }
   ],
   "execution_count": 178
  },
  {
   "metadata": {},
   "cell_type": "markdown",
   "source": "2. Remove the variables that have a high purity (>0.9995)"
  },
  {
   "cell_type": "code",
   "source": [
    "def check_purity_reached(df, max_purity):\n",
    "    purity_dict = {}\n",
    "    for col in df.columns:\n",
    "        # Find the most frequent value's count and divide by the total number of rows\n",
    "        most_frequent = df[col].value_counts(normalize=True).max()\n",
    "\n",
    "        if most_frequent >= max_purity:\n",
    "            purity_dict[col] = most_frequent\n",
    "    return purity_dict\n",
    "\n",
    "print(f\"These are columns that are more pure than 99.95%:\")\n",
    "purity_dict = check_purity_reached(clean_df,  max_purity=0.9995)\n",
    "purity_dict"
   ],
   "metadata": {
    "colab": {
     "base_uri": "https://localhost:8080/"
    },
    "id": "y4kR4de3Vxjk",
    "outputId": "11cc11b4-cbac-4837-d430-20a574ed727f",
    "ExecuteTime": {
     "end_time": "2024-10-03T23:39:24.721161Z",
     "start_time": "2024-10-03T23:39:24.497476Z"
    }
   },
   "outputs": [
    {
     "name": "stdout",
     "output_type": "stream",
     "text": [
      "These are columns that are more pure than 99.95%:\n"
     ]
    },
    {
     "data": {
      "text/plain": [
       "{'acetohexamide': 0.9999901735353655,\n",
       " 'tolbutamide': 0.9997739913134053,\n",
       " 'miglitol': 0.999626594343887,\n",
       " 'troglitazone': 0.9999705206060964,\n",
       " 'tolazamide': 0.9996167678792524,\n",
       " 'examide': 1.0,\n",
       " 'citoglipton': 1.0,\n",
       " 'glipizide-metformin': 0.9998722559597508,\n",
       " 'glimepiride-pioglitazone': 0.9999901735353655,\n",
       " 'metformin-rosiglitazone': 0.9999803470707309,\n",
       " 'metformin-pioglitazone': 0.9999901735353655}"
      ]
     },
     "execution_count": 179,
     "metadata": {},
     "output_type": "execute_result"
    }
   ],
   "execution_count": 179
  },
  {
   "cell_type": "code",
   "source": [
    "# Drop these columns\n",
    "column_names_to_remove = list(purity_dict.keys())\n",
    "clean_df.drop(column_names_to_remove, axis=1, inplace=True, errors='ignore')\n",
    "\n",
    "print(f\"These are columns that are more pure than 99.95%:\")\n",
    "purity_dict = check_purity_reached(clean_df, max_purity=0.9995)\n",
    "purity_dict"
   ],
   "metadata": {
    "id": "rwl5tI2bWY2P",
    "ExecuteTime": {
     "end_time": "2024-10-03T23:39:25.002663Z",
     "start_time": "2024-10-03T23:39:24.820023Z"
    }
   },
   "outputs": [
    {
     "name": "stdout",
     "output_type": "stream",
     "text": [
      "These are columns that are more pure than 99.95%:\n"
     ]
    },
    {
     "data": {
      "text/plain": [
       "{}"
      ]
     },
     "execution_count": 180,
     "metadata": {},
     "output_type": "execute_result"
    }
   ],
   "execution_count": 180
  },
  {
   "metadata": {},
   "cell_type": "markdown",
   "source": "3. Remove the variables that are considered irrelevant"
  },
  {
   "cell_type": "code",
   "source": [
    "irrelevant_columns = [\"payer_code\", \"medical_specialty\", \"encounter_id\", \"patient_nbr\"]\n",
    "clean_df.drop(irrelevant_columns, axis=1, inplace=True, errors='ignore')"
   ],
   "metadata": {
    "id": "GhieEIc9W0Tv",
    "ExecuteTime": {
     "end_time": "2024-10-03T23:39:25.250922Z",
     "start_time": "2024-10-03T23:39:25.222557Z"
    }
   },
   "outputs": [],
   "execution_count": 181
  },
  {
   "cell_type": "markdown",
   "source": "4. Remove observations with no diagnoses (NA for diag_1, diag_2, or diag_3)",
   "metadata": {
    "id": "zDknVNkzXA2f"
   }
  },
  {
   "cell_type": "code",
   "source": [
    "print(f\"There are {sum(clean_df.isna().sum())} NA values.\")\n",
    "\n",
    "sum_of_na = clean_df.isna().sum()\n",
    "sum_of_na[sum_of_na > 0]"
   ],
   "metadata": {
    "colab": {
     "base_uri": "https://localhost:8080/",
     "height": 258
    },
    "id": "yevGcKAqW-Dv",
    "outputId": "843f5dbe-38f2-4459-c25f-0147584abfb4",
    "ExecuteTime": {
     "end_time": "2024-10-03T23:39:25.577760Z",
     "start_time": "2024-10-03T23:39:25.458975Z"
    }
   },
   "outputs": [
    {
     "name": "stdout",
     "output_type": "stream",
     "text": [
      "There are 88823 NA values.\n"
     ]
    },
    {
     "data": {
      "text/plain": [
       "race          2273\n",
       "diag_1          21\n",
       "diag_2         358\n",
       "diag_3        1423\n",
       "A1Cresult    84748\n",
       "dtype: int64"
      ]
     },
     "execution_count": 182,
     "metadata": {},
     "output_type": "execute_result"
    }
   ],
   "execution_count": 182
  },
  {
   "cell_type": "code",
   "source": [
    "# remove the NA\n",
    "clean_df.dropna(subset=['diag_1', 'diag_2', 'diag_3'], inplace=True)\n",
    "\n",
    "# print the sum of the nas for those columns\n",
    "print(clean_df[['diag_1', 'diag_2', 'diag_3']].isna().sum())"
   ],
   "metadata": {
    "colab": {
     "base_uri": "https://localhost:8080/"
    },
    "id": "4_Xj5h61XXkV",
    "outputId": "e439f903-c847-4c57-e9be-9526069bb7f7",
    "ExecuteTime": {
     "end_time": "2024-10-03T23:39:25.903890Z",
     "start_time": "2024-10-03T23:39:25.845364Z"
    }
   },
   "outputs": [
    {
     "name": "stdout",
     "output_type": "stream",
     "text": [
      "diag_1    0\n",
      "diag_2    0\n",
      "diag_3    0\n",
      "dtype: int64\n"
     ]
    }
   ],
   "execution_count": 183
  },
  {
   "cell_type": "markdown",
   "source": "5. Impute remaining NAs with the median values",
   "metadata": {
    "id": "xhog1vDIXdBB"
   }
  },
  {
   "cell_type": "code",
   "source": [
    "print(f\"There are {sum(clean_df.isna().sum())} NA values.\")\n",
    "\n",
    "sum_of_na = clean_df.isna().sum()\n",
    "sum_of_na[sum_of_na > 0]"
   ],
   "metadata": {
    "colab": {
     "base_uri": "https://localhost:8080/",
     "height": 164
    },
    "id": "DKlFsgwoXaVg",
    "outputId": "4a070fd3-0b29-4d64-fb35-f78ba087011e",
    "ExecuteTime": {
     "end_time": "2024-10-03T23:39:26.152999Z",
     "start_time": "2024-10-03T23:39:26.021613Z"
    }
   },
   "outputs": [
    {
     "name": "stdout",
     "output_type": "stream",
     "text": [
      "There are 85836 NA values.\n"
     ]
    },
    {
     "data": {
      "text/plain": [
       "race          2191\n",
       "A1Cresult    83645\n",
       "dtype: int64"
      ]
     },
     "execution_count": 184,
     "metadata": {},
     "output_type": "execute_result"
    }
   ],
   "execution_count": 184
  },
  {
   "cell_type": "code",
   "source": [
    "# Removes NA's from data.\n",
    "numeric_cols = clean_df.select_dtypes(include=['number']).columns\n",
    "categorical_cols = clean_df.select_dtypes(include=['object']).columns\n",
    "\n",
    "clean_df[numeric_cols] = clean_df[numeric_cols].fillna(clean_df[numeric_cols].median())\n",
    "\n",
    "for col in categorical_cols:\n",
    "    clean_df[col].fillna(clean_df[col].mode()[0], inplace=True)\n",
    "\n",
    "print(f\"There are {sum(clean_df.isna().sum())} NA values.\")"
   ],
   "metadata": {
    "colab": {
     "base_uri": "https://localhost:8080/"
    },
    "id": "zv0RSxR8XiiI",
    "outputId": "1dccccca-45c6-48c2-a571-08c76ed5ad05",
    "ExecuteTime": {
     "end_time": "2024-10-03T23:39:26.605051Z",
     "start_time": "2024-10-03T23:39:26.322634Z"
    }
   },
   "outputs": [
    {
     "name": "stdout",
     "output_type": "stream",
     "text": [
      "There are 0 NA values.\n"
     ]
    }
   ],
   "execution_count": 185
  },
  {
   "cell_type": "markdown",
   "source": "6. Remove the 'unknown' observations from gender",
   "metadata": {
    "id": "8suavDKuXvWI"
   }
  },
  {
   "cell_type": "code",
   "source": [
    "clean_df[\"gender\"].value_counts()"
   ],
   "metadata": {
    "colab": {
     "base_uri": "https://localhost:8080/",
     "height": 210
    },
    "id": "GPvi7BfeXkcQ",
    "outputId": "3dd4e78b-8b8e-493c-fee7-b7cf1a518691",
    "ExecuteTime": {
     "end_time": "2024-10-03T23:39:26.728752Z",
     "start_time": "2024-10-03T23:39:26.702990Z"
    }
   },
   "outputs": [
    {
     "data": {
      "text/plain": [
       "gender\n",
       "Female             53922\n",
       "Male               46319\n",
       "Unknown/Invalid        3\n",
       "Name: count, dtype: int64"
      ]
     },
     "execution_count": 186,
     "metadata": {},
     "output_type": "execute_result"
    }
   ],
   "execution_count": 186
  },
  {
   "cell_type": "code",
   "source": [
    "clean_df = clean_df[clean_df[\"gender\"] != \"Unknown/Invalid\"]\n",
    "clean_df[\"gender\"].value_counts()"
   ],
   "metadata": {
    "colab": {
     "base_uri": "https://localhost:8080/",
     "height": 178
    },
    "id": "OiRcfBXFX18q",
    "outputId": "261ffc78-6583-43ea-e191-35324ee9fb27",
    "ExecuteTime": {
     "end_time": "2024-10-03T23:39:26.852069Z",
     "start_time": "2024-10-03T23:39:26.801820Z"
    }
   },
   "outputs": [
    {
     "data": {
      "text/plain": [
       "gender\n",
       "Female    53922\n",
       "Male      46319\n",
       "Name: count, dtype: int64"
      ]
     },
     "execution_count": 187,
     "metadata": {},
     "output_type": "execute_result"
    }
   ],
   "execution_count": 187
  },
  {
   "cell_type": "code",
   "source": [
    "clean_df.columns"
   ],
   "metadata": {
    "colab": {
     "base_uri": "https://localhost:8080/"
    },
    "id": "R7IsHY-WX6gF",
    "outputId": "347a7308-ed4e-4825-d84d-e0bf4dbcbd68",
    "ExecuteTime": {
     "end_time": "2024-10-03T23:39:27.006784Z",
     "start_time": "2024-10-03T23:39:26.993240Z"
    }
   },
   "outputs": [
    {
     "data": {
      "text/plain": [
       "Index(['race', 'gender', 'age', 'admission_type_id',\n",
       "       'discharge_disposition_id', 'admission_source_id', 'time_in_hospital',\n",
       "       'num_lab_procedures', 'num_procedures', 'num_medications',\n",
       "       'number_outpatient', 'number_emergency', 'number_inpatient', 'diag_1',\n",
       "       'diag_2', 'diag_3', 'number_diagnoses', 'A1Cresult', 'metformin',\n",
       "       'repaglinide', 'nateglinide', 'chlorpropamide', 'glimepiride',\n",
       "       'glipizide', 'glyburide', 'pioglitazone', 'rosiglitazone', 'acarbose',\n",
       "       'insulin', 'glyburide-metformin', 'change', 'diabetesMed',\n",
       "       'readmitted'],\n",
       "      dtype='object')"
      ]
     },
     "execution_count": 188,
     "metadata": {},
     "output_type": "execute_result"
    }
   ],
   "execution_count": 188
  },
  {
   "cell_type": "markdown",
   "source": "# Sub Questions Tests",
   "metadata": {
    "id": "lH4LcmTZHhTF"
   }
  },
  {
   "cell_type": "markdown",
   "source": [
    "## Sub-question 1: Is there an association between race and 30-day hospital readmission rates, and is age a significant predictor of readmission?"
   ],
   "metadata": {
    "id": "n1SXOS10YZKp"
   }
  },
  {
   "cell_type": "markdown",
   "source": [
    "#### Test 1: Chi-Square Test Between `age` and `readmitted`"
   ],
   "metadata": {
    "id": "8sXXpsMYdhE3"
   }
  },
  {
   "cell_type": "code",
   "source": [
    "pd.crosstab(clean_df['age'], clean_df['readmitted'] == '<30')"
   ],
   "metadata": {
    "colab": {
     "base_uri": "https://localhost:8080/",
     "height": 394
    },
    "id": "fhir9M3rpw8u",
    "outputId": "c8dfd9fe-79d9-42b0-fc5d-2a3680b9a966",
    "ExecuteTime": {
     "end_time": "2024-10-03T23:39:27.534991Z",
     "start_time": "2024-10-03T23:39:27.504949Z"
    }
   },
   "outputs": [
    {
     "data": {
      "text/plain": [
       "readmitted  False  True \n",
       "age                     \n",
       "[0-10)         64      1\n",
       "[10-20)       438     31\n",
       "[20-30)      1298    217\n",
       "[30-40)      3206    410\n",
       "[40-50)      8456   1018\n",
       "[50-60)     15384   1660\n",
       "[60-70)     19796   2491\n",
       "[70-80)     22841   3055\n",
       "[80-90)     15030   2060\n",
       "[90-100)     2478    307"
      ],
      "text/html": [
       "<div>\n",
       "<style scoped>\n",
       "    .dataframe tbody tr th:only-of-type {\n",
       "        vertical-align: middle;\n",
       "    }\n",
       "\n",
       "    .dataframe tbody tr th {\n",
       "        vertical-align: top;\n",
       "    }\n",
       "\n",
       "    .dataframe thead th {\n",
       "        text-align: right;\n",
       "    }\n",
       "</style>\n",
       "<table border=\"1\" class=\"dataframe\">\n",
       "  <thead>\n",
       "    <tr style=\"text-align: right;\">\n",
       "      <th>readmitted</th>\n",
       "      <th>False</th>\n",
       "      <th>True</th>\n",
       "    </tr>\n",
       "    <tr>\n",
       "      <th>age</th>\n",
       "      <th></th>\n",
       "      <th></th>\n",
       "    </tr>\n",
       "  </thead>\n",
       "  <tbody>\n",
       "    <tr>\n",
       "      <th>[0-10)</th>\n",
       "      <td>64</td>\n",
       "      <td>1</td>\n",
       "    </tr>\n",
       "    <tr>\n",
       "      <th>[10-20)</th>\n",
       "      <td>438</td>\n",
       "      <td>31</td>\n",
       "    </tr>\n",
       "    <tr>\n",
       "      <th>[20-30)</th>\n",
       "      <td>1298</td>\n",
       "      <td>217</td>\n",
       "    </tr>\n",
       "    <tr>\n",
       "      <th>[30-40)</th>\n",
       "      <td>3206</td>\n",
       "      <td>410</td>\n",
       "    </tr>\n",
       "    <tr>\n",
       "      <th>[40-50)</th>\n",
       "      <td>8456</td>\n",
       "      <td>1018</td>\n",
       "    </tr>\n",
       "    <tr>\n",
       "      <th>[50-60)</th>\n",
       "      <td>15384</td>\n",
       "      <td>1660</td>\n",
       "    </tr>\n",
       "    <tr>\n",
       "      <th>[60-70)</th>\n",
       "      <td>19796</td>\n",
       "      <td>2491</td>\n",
       "    </tr>\n",
       "    <tr>\n",
       "      <th>[70-80)</th>\n",
       "      <td>22841</td>\n",
       "      <td>3055</td>\n",
       "    </tr>\n",
       "    <tr>\n",
       "      <th>[80-90)</th>\n",
       "      <td>15030</td>\n",
       "      <td>2060</td>\n",
       "    </tr>\n",
       "    <tr>\n",
       "      <th>[90-100)</th>\n",
       "      <td>2478</td>\n",
       "      <td>307</td>\n",
       "    </tr>\n",
       "  </tbody>\n",
       "</table>\n",
       "</div>"
      ]
     },
     "execution_count": 189,
     "metadata": {},
     "output_type": "execute_result"
    }
   ],
   "execution_count": 189
  },
  {
   "cell_type": "code",
   "source": [
    "# Create a contingency table between age and 30-day readmission ('readmitted' == '<30')\n",
    "contingency_table_age = pd.crosstab(clean_df['age'], clean_df['readmitted'] == '<30')\n",
    "\n",
    "# Perform Chi-Squared test\n",
    "chi2_stat, p_val, dof, expected = chi2_contingency(contingency_table_age)\n",
    "\n",
    "# Print results\n",
    "print(f\"Chi-Squared Test for Age:\")\n",
    "print(f\"Chi-squared statistic: {chi2_stat}\")\n",
    "print(f\"p-value: {p_val}\\n\")\n",
    "\n",
    "if p_val < 0.05:\n",
    "    print(\"There is a significant association between age and 30-day readmission.\")\n",
    "else:\n",
    "    print(\"There is no significant association between age and 30-day readmission.\")"
   ],
   "metadata": {
    "colab": {
     "base_uri": "https://localhost:8080/"
    },
    "id": "jlhBBzxZX7Ye",
    "outputId": "4f92e6c4-64b4-4fbe-baea-fb4070aca1c1",
    "ExecuteTime": {
     "end_time": "2024-10-03T23:39:27.752271Z",
     "start_time": "2024-10-03T23:39:27.717492Z"
    }
   },
   "outputs": [
    {
     "name": "stdout",
     "output_type": "stream",
     "text": [
      "Chi-Squared Test for Age:\n",
      "Chi-squared statistic: 91.18850112960793\n",
      "p-value: 9.398980468091394e-16\n",
      "\n",
      "There is a significant association between age and 30-day readmission.\n"
     ]
    }
   ],
   "execution_count": 190
  },
  {
   "cell_type": "markdown",
   "source": [
    "#### Test 2: Chi-Square Test Between `race` and `readmitted`"
   ],
   "metadata": {
    "id": "5YLeBIBPryir"
   }
  },
  {
   "cell_type": "code",
   "source": [
    "pd.crosstab(clean_df['race'], clean_df['readmitted'] == '<30')"
   ],
   "metadata": {
    "colab": {
     "base_uri": "https://localhost:8080/",
     "height": 237
    },
    "id": "8j_4nTkjqi1f",
    "outputId": "628dd376-9e07-4602-8129-ae78f606895f",
    "ExecuteTime": {
     "end_time": "2024-10-03T23:39:27.908126Z",
     "start_time": "2024-10-03T23:39:27.880201Z"
    }
   },
   "outputs": [
    {
     "data": {
      "text/plain": [
       "readmitted       False  True \n",
       "race                         \n",
       "AfricanAmerican  16741   2140\n",
       "Asian              560     65\n",
       "Caucasian        68572   8696\n",
       "Hispanic          1777    207\n",
       "Other             1341    142"
      ],
      "text/html": [
       "<div>\n",
       "<style scoped>\n",
       "    .dataframe tbody tr th:only-of-type {\n",
       "        vertical-align: middle;\n",
       "    }\n",
       "\n",
       "    .dataframe tbody tr th {\n",
       "        vertical-align: top;\n",
       "    }\n",
       "\n",
       "    .dataframe thead th {\n",
       "        text-align: right;\n",
       "    }\n",
       "</style>\n",
       "<table border=\"1\" class=\"dataframe\">\n",
       "  <thead>\n",
       "    <tr style=\"text-align: right;\">\n",
       "      <th>readmitted</th>\n",
       "      <th>False</th>\n",
       "      <th>True</th>\n",
       "    </tr>\n",
       "    <tr>\n",
       "      <th>race</th>\n",
       "      <th></th>\n",
       "      <th></th>\n",
       "    </tr>\n",
       "  </thead>\n",
       "  <tbody>\n",
       "    <tr>\n",
       "      <th>AfricanAmerican</th>\n",
       "      <td>16741</td>\n",
       "      <td>2140</td>\n",
       "    </tr>\n",
       "    <tr>\n",
       "      <th>Asian</th>\n",
       "      <td>560</td>\n",
       "      <td>65</td>\n",
       "    </tr>\n",
       "    <tr>\n",
       "      <th>Caucasian</th>\n",
       "      <td>68572</td>\n",
       "      <td>8696</td>\n",
       "    </tr>\n",
       "    <tr>\n",
       "      <th>Hispanic</th>\n",
       "      <td>1777</td>\n",
       "      <td>207</td>\n",
       "    </tr>\n",
       "    <tr>\n",
       "      <th>Other</th>\n",
       "      <td>1341</td>\n",
       "      <td>142</td>\n",
       "    </tr>\n",
       "  </tbody>\n",
       "</table>\n",
       "</div>"
      ]
     },
     "execution_count": 191,
     "metadata": {},
     "output_type": "execute_result"
    }
   ],
   "execution_count": 191
  },
  {
   "cell_type": "code",
   "source": [
    "# Create a contingency table between race and 30-day readmission ('readmitted' == '<30')\n",
    "contingency_table_race = pd.crosstab(clean_df['race'], clean_df['readmitted'] == '<30')\n",
    "\n",
    "# Perform Chi-Squared test\n",
    "chi2_stat, p_val, dof, expected = chi2_contingency(contingency_table_race)\n",
    "\n",
    "# print results\n",
    "print(f\"Chi-Squared Test for Race:\")\n",
    "print(f\"Chi-squared statistic: {chi2_stat}\")\n",
    "print(f\"p-value: {p_val}\\n\")\n",
    "\n",
    "if p_val < 0.05:\n",
    "    print(\"There is a significant association between race and 30-day readmission.\")\n",
    "else:\n",
    "    print(\"There is no significant association between race and 30-day readmission.\")"
   ],
   "metadata": {
    "colab": {
     "base_uri": "https://localhost:8080/"
    },
    "id": "m27oCCfnerER",
    "outputId": "1a102ff4-4584-4b3e-d5ca-9dd797bf21a2",
    "ExecuteTime": {
     "end_time": "2024-10-03T23:39:28.112527Z",
     "start_time": "2024-10-03T23:39:28.082950Z"
    }
   },
   "outputs": [
    {
     "name": "stdout",
     "output_type": "stream",
     "text": [
      "Chi-Squared Test for Race:\n",
      "Chi-squared statistic: 6.0179941132941215\n",
      "p-value: 0.19780848632032674\n",
      "\n",
      "There is no significant association between race and 30-day readmission.\n"
     ]
    }
   ],
   "execution_count": 192
  },
  {
   "cell_type": "markdown",
   "source": "#### Test 3: Post-Hoc Analysis for Age and Race",
   "metadata": {
    "id": "DzaWYx24r23A"
   }
  },
  {
   "cell_type": "code",
   "source": [
    "import pandas as pd\n",
    "import statsmodels.api as sm\n",
    "import numpy as np\n",
    "\n",
    "## Create a logistical model to determine which age groups are at risk\n",
    "# Define the binary outcome\n",
    "y = (clean_df['readmitted'] == '<30').astype(int)\n",
    "\n",
    "# Create dummy variables for 'race', dropping the first category to avoid multicollinearity\n",
    "X = pd.get_dummies(clean_df['age'], drop_first=True)\n",
    "\n",
    "# Convert bool X into integers\n",
    "X = X.astype(int)\n",
    "\n",
    "# Add an intercept to the model\n",
    "X = sm.add_constant(X)\n",
    "\n",
    "# Fit the logistic regression model\n",
    "model = sm.Logit(y, X).fit()\n",
    "\n",
    "# Print the summary of the model\n",
    "print(model.summary())"
   ],
   "metadata": {
    "colab": {
     "base_uri": "https://localhost:8080/"
    },
    "id": "QjAgA9uwr2kJ",
    "outputId": "3b3ab613-c128-485f-a9fe-004d2395934e",
    "ExecuteTime": {
     "end_time": "2024-10-03T23:39:28.732033Z",
     "start_time": "2024-10-03T23:39:28.345628Z"
    }
   },
   "outputs": [
    {
     "name": "stdout",
     "output_type": "stream",
     "text": [
      "Optimization terminated successfully.\n",
      "         Current function value: 0.350672\n",
      "         Iterations 8\n",
      "                           Logit Regression Results                           \n",
      "==============================================================================\n",
      "Dep. Variable:             readmitted   No. Observations:               100241\n",
      "Model:                          Logit   Df Residuals:                   100231\n",
      "Method:                           MLE   Df Model:                            9\n",
      "Date:                Thu, 03 Oct 2024   Pseudo R-squ.:                0.001365\n",
      "Time:                        17:39:28   Log-Likelihood:                -35152.\n",
      "converged:                       True   LL-Null:                       -35200.\n",
      "Covariance Type:            nonrobust   LLR p-value:                 9.818e-17\n",
      "==============================================================================\n",
      "                 coef    std err          z      P>|z|      [0.025      0.975]\n",
      "------------------------------------------------------------------------------\n",
      "const         -4.1589      1.008     -4.127      0.000      -6.134      -2.184\n",
      "[10-20)        1.5107      1.025      1.474      0.140      -0.498       3.519\n",
      "[20-30)        2.3702      1.010      2.346      0.019       0.390       4.351\n",
      "[30-40)        2.1023      1.009      2.083      0.037       0.124       4.080\n",
      "[40-50)        2.0418      1.008      2.025      0.043       0.066       4.018\n",
      "[50-60)        1.9324      1.008      1.917      0.055      -0.043       3.908\n",
      "[60-70)        2.0861      1.008      2.070      0.038       0.110       4.062\n",
      "[70-80)        2.1471      1.008      2.130      0.033       0.172       4.123\n",
      "[80-90)        2.1715      1.008      2.154      0.031       0.196       4.147\n",
      "[90-100)       2.0705      1.010      2.051      0.040       0.092       4.049\n",
      "==============================================================================\n"
     ]
    }
   ],
   "execution_count": 193
  },
  {
   "cell_type": "code",
   "source": [
    "plot_odds_ratios(model, title='Odds Ratios for Age Groups', ylabel='Age Groups', significance_level=0.05, figsize=(8, 6), name='age_oddratio')"
   ],
   "metadata": {
    "colab": {
     "base_uri": "https://localhost:8080/",
     "height": 961
    },
    "id": "JlVZZ7p5yGlz",
    "outputId": "75a975c4-deba-41bd-a0c1-3feede09813e",
    "ExecuteTime": {
     "end_time": "2024-10-03T23:39:29.317274Z",
     "start_time": "2024-10-03T23:39:28.810725Z"
    }
   },
   "outputs": [
    {
     "data": {
      "text/plain": [
       "<Figure size 800x600 with 1 Axes>"
      ],
      "image/png": "[encoded data removed]"
     },
     "metadata": {},
     "output_type": "display_data"
    }
   ],
   "execution_count": 194
  },
  {
   "cell_type": "code",
   "source": [
    "print(\"\\nModel odds compared to reference group (0-9 year olds)\")\n",
    "print(np.exp(model.params))"
   ],
   "metadata": {
    "colab": {
     "base_uri": "https://localhost:8080/"
    },
    "id": "Rqvk9w8TzbtP",
    "outputId": "286e6102-833e-4912-f43f-da19415b9459",
    "ExecuteTime": {
     "end_time": "2024-10-03T23:39:29.512825Z",
     "start_time": "2024-10-03T23:39:29.501083Z"
    }
   },
   "outputs": [
    {
     "name": "stdout",
     "output_type": "stream",
     "text": [
      "\n",
      "Model odds compared to reference group (0-9 year olds)\n",
      "const        0.015625\n",
      "[10-20)      4.529680\n",
      "[20-30)     10.699538\n",
      "[30-40)      8.184654\n",
      "[40-50)      7.704825\n",
      "[50-60)      6.905876\n",
      "[60-70)      8.053344\n",
      "[70-80)      8.560046\n",
      "[80-90)      8.771790\n",
      "[90-100)     7.928975\n",
      "dtype: float64\n"
     ]
    }
   ],
   "execution_count": 195
  },
  {
   "cell_type": "markdown",
   "source": [
    "**Suprising Finding!**\n",
    "The age group [20-30) is 10.7x more likely to be readmitted in less than 30 days compared to other age groups, compared to those that are 0-9 years old. This is followed by [80-90) with a 8.77x odds ratio compared to the reference group. That means that [20-30) is about 1.22x more likely compared to those that are [80-90)!\n",
    "\n",
    "**Given that the data was collected from 1999 - 2008. Then those that are [20-30)\n",
    "were born between 1969 (1999-30) and 1988 (2008-20). Did anything significant occur during this time?**"
   ],
   "metadata": {
    "id": "NIa95YdTvxld"
   }
  },
  {
   "cell_type": "code",
   "source": [
    "## Determine the threshold for groups that are at risk (let's find the group most at risk)\n",
    "\n",
    "# What should the threshold be? # Try values like 8, 8.7, 8.7, and 10\n",
    "# Notice that if you use 10, then there isn't enough data for the test below.\n",
    "chosen_odds_threshold = 8.5\n",
    "\n",
    "selected_age_groups = np.exp(model.params)[np.exp(model.params) > chosen_odds_threshold]\n",
    "\n",
    "print(\"The following age groups are at an increased risk:\")\n",
    "print(selected_age_groups)"
   ],
   "metadata": {
    "colab": {
     "base_uri": "https://localhost:8080/"
    },
    "id": "wXv9N7TLt0H_",
    "outputId": "ff65cff4-ad5a-436b-feb5-bb7d2960b91d",
    "ExecuteTime": {
     "end_time": "2024-10-03T23:39:29.716466Z",
     "start_time": "2024-10-03T23:39:29.703442Z"
    }
   },
   "outputs": [
    {
     "name": "stdout",
     "output_type": "stream",
     "text": [
      "The following age groups are at an increased risk:\n",
      "[20-30)    10.699538\n",
      "[70-80)     8.560046\n",
      "[80-90)     8.771790\n",
      "dtype: float64\n"
     ]
    }
   ],
   "execution_count": 196
  },
  {
   "cell_type": "code",
   "source": [
    "selected_age_groups.index"
   ],
   "metadata": {
    "colab": {
     "base_uri": "https://localhost:8080/"
    },
    "id": "aNw-FnGB0G3r",
    "outputId": "b8581284-b018-471b-87e0-4119e43e600d",
    "ExecuteTime": {
     "end_time": "2024-10-03T23:39:29.918694Z",
     "start_time": "2024-10-03T23:39:29.904700Z"
    }
   },
   "outputs": [
    {
     "data": {
      "text/plain": [
       "Index(['[20-30)', '[70-80)', '[80-90)'], dtype='object')"
      ]
     },
     "execution_count": 197,
     "metadata": {},
     "output_type": "execute_result"
    }
   ],
   "execution_count": 197
  },
  {
   "cell_type": "code",
   "source": [
    "## Select only these ages from the race groups\n",
    "# Get the index\n",
    "age_indices = clean_df.loc[clean_df['age'].isin(selected_age_groups.index)].index\n",
    "\n",
    "# Select those groups\n",
    "selected_groups = clean_df.loc[age_indices, [\"age\", \"race\", \"readmitted\"]]\n",
    "selected_groups"
   ],
   "metadata": {
    "colab": {
     "base_uri": "https://localhost:8080/",
     "height": 423
    },
    "id": "oUxhT8VvwSKg",
    "outputId": "66ba390a-1d86-41aa-c238-85614e77dba7",
    "ExecuteTime": {
     "end_time": "2024-10-03T23:39:30.168250Z",
     "start_time": "2024-10-03T23:39:30.123367Z"
    }
   },
   "outputs": [
    {
     "data": {
      "text/plain": [
       "            age             race readmitted\n",
       "2       [20-30)  AfricanAmerican         NO\n",
       "7       [70-80)        Caucasian        >30\n",
       "8       [80-90)        Caucasian         NO\n",
       "13      [80-90)        Caucasian         NO\n",
       "18      [70-80)  AfricanAmerican        >30\n",
       "...         ...              ...        ...\n",
       "101761  [70-80)  AfricanAmerican        >30\n",
       "101762  [80-90)  AfricanAmerican         NO\n",
       "101763  [70-80)        Caucasian         NO\n",
       "101764  [80-90)        Caucasian         NO\n",
       "101765  [70-80)        Caucasian         NO\n",
       "\n",
       "[44501 rows x 3 columns]"
      ],
      "text/html": [
       "<div>\n",
       "<style scoped>\n",
       "    .dataframe tbody tr th:only-of-type {\n",
       "        vertical-align: middle;\n",
       "    }\n",
       "\n",
       "    .dataframe tbody tr th {\n",
       "        vertical-align: top;\n",
       "    }\n",
       "\n",
       "    .dataframe thead th {\n",
       "        text-align: right;\n",
       "    }\n",
       "</style>\n",
       "<table border=\"1\" class=\"dataframe\">\n",
       "  <thead>\n",
       "    <tr style=\"text-align: right;\">\n",
       "      <th></th>\n",
       "      <th>age</th>\n",
       "      <th>race</th>\n",
       "      <th>readmitted</th>\n",
       "    </tr>\n",
       "  </thead>\n",
       "  <tbody>\n",
       "    <tr>\n",
       "      <th>2</th>\n",
       "      <td>[20-30)</td>\n",
       "      <td>AfricanAmerican</td>\n",
       "      <td>NO</td>\n",
       "    </tr>\n",
       "    <tr>\n",
       "      <th>7</th>\n",
       "      <td>[70-80)</td>\n",
       "      <td>Caucasian</td>\n",
       "      <td>&gt;30</td>\n",
       "    </tr>\n",
       "    <tr>\n",
       "      <th>8</th>\n",
       "      <td>[80-90)</td>\n",
       "      <td>Caucasian</td>\n",
       "      <td>NO</td>\n",
       "    </tr>\n",
       "    <tr>\n",
       "      <th>13</th>\n",
       "      <td>[80-90)</td>\n",
       "      <td>Caucasian</td>\n",
       "      <td>NO</td>\n",
       "    </tr>\n",
       "    <tr>\n",
       "      <th>18</th>\n",
       "      <td>[70-80)</td>\n",
       "      <td>AfricanAmerican</td>\n",
       "      <td>&gt;30</td>\n",
       "    </tr>\n",
       "    <tr>\n",
       "      <th>...</th>\n",
       "      <td>...</td>\n",
       "      <td>...</td>\n",
       "      <td>...</td>\n",
       "    </tr>\n",
       "    <tr>\n",
       "      <th>101761</th>\n",
       "      <td>[70-80)</td>\n",
       "      <td>AfricanAmerican</td>\n",
       "      <td>&gt;30</td>\n",
       "    </tr>\n",
       "    <tr>\n",
       "      <th>101762</th>\n",
       "      <td>[80-90)</td>\n",
       "      <td>AfricanAmerican</td>\n",
       "      <td>NO</td>\n",
       "    </tr>\n",
       "    <tr>\n",
       "      <th>101763</th>\n",
       "      <td>[70-80)</td>\n",
       "      <td>Caucasian</td>\n",
       "      <td>NO</td>\n",
       "    </tr>\n",
       "    <tr>\n",
       "      <th>101764</th>\n",
       "      <td>[80-90)</td>\n",
       "      <td>Caucasian</td>\n",
       "      <td>NO</td>\n",
       "    </tr>\n",
       "    <tr>\n",
       "      <th>101765</th>\n",
       "      <td>[70-80)</td>\n",
       "      <td>Caucasian</td>\n",
       "      <td>NO</td>\n",
       "    </tr>\n",
       "  </tbody>\n",
       "</table>\n",
       "<p>44501 rows × 3 columns</p>\n",
       "</div>"
      ]
     },
     "execution_count": 198,
     "metadata": {},
     "output_type": "execute_result"
    }
   ],
   "execution_count": 198
  },
  {
   "cell_type": "markdown",
   "source": [
    "DOUBLE CHECK TO SEE IF THE ASSUMPTION THAT THERE ARE AT LEAST 5 OBSERVATIONS IS STILL TRUE."
   ],
   "metadata": {
    "id": "RmuMAxMj2kCV"
   }
  },
  {
   "cell_type": "code",
   "source": [
    "# Select the age groups for race\n",
    "contingency_table_race = pd.crosstab(selected_groups['race'], selected_groups['readmitted'] == '<30')\n",
    "\n",
    "# Check for any cell with count less than 5\n",
    "if (contingency_table_race < 5).any().any():\n",
    "    print(\"\\nError: Some cells have counts less than 5. The test results may not be reliable.\")\n",
    "else:\n",
    "    print(\"\\nAll cells have counts of 5 or more.\")\n",
    "\n",
    "contingency_table_race"
   ],
   "metadata": {
    "colab": {
     "base_uri": "https://localhost:8080/",
     "height": 272
    },
    "id": "gpSPNpvN2ilF",
    "outputId": "63e117d4-0dc2-4892-b73e-c9ce06160fea",
    "ExecuteTime": {
     "end_time": "2024-10-03T23:39:30.431528Z",
     "start_time": "2024-10-03T23:39:30.402755Z"
    }
   },
   "outputs": [
    {
     "name": "stdout",
     "output_type": "stream",
     "text": [
      "\n",
      "All cells have counts of 5 or more.\n"
     ]
    },
    {
     "data": {
      "text/plain": [
       "readmitted       False  True \n",
       "race                         \n",
       "AfricanAmerican   5372    729\n",
       "Asian              237     36\n",
       "Caucasian        32601   4448\n",
       "Hispanic           512     69\n",
       "Other              447     50"
      ],
      "text/html": [
       "<div>\n",
       "<style scoped>\n",
       "    .dataframe tbody tr th:only-of-type {\n",
       "        vertical-align: middle;\n",
       "    }\n",
       "\n",
       "    .dataframe tbody tr th {\n",
       "        vertical-align: top;\n",
       "    }\n",
       "\n",
       "    .dataframe thead th {\n",
       "        text-align: right;\n",
       "    }\n",
       "</style>\n",
       "<table border=\"1\" class=\"dataframe\">\n",
       "  <thead>\n",
       "    <tr style=\"text-align: right;\">\n",
       "      <th>readmitted</th>\n",
       "      <th>False</th>\n",
       "      <th>True</th>\n",
       "    </tr>\n",
       "    <tr>\n",
       "      <th>race</th>\n",
       "      <th></th>\n",
       "      <th></th>\n",
       "    </tr>\n",
       "  </thead>\n",
       "  <tbody>\n",
       "    <tr>\n",
       "      <th>AfricanAmerican</th>\n",
       "      <td>5372</td>\n",
       "      <td>729</td>\n",
       "    </tr>\n",
       "    <tr>\n",
       "      <th>Asian</th>\n",
       "      <td>237</td>\n",
       "      <td>36</td>\n",
       "    </tr>\n",
       "    <tr>\n",
       "      <th>Caucasian</th>\n",
       "      <td>32601</td>\n",
       "      <td>4448</td>\n",
       "    </tr>\n",
       "    <tr>\n",
       "      <th>Hispanic</th>\n",
       "      <td>512</td>\n",
       "      <td>69</td>\n",
       "    </tr>\n",
       "    <tr>\n",
       "      <th>Other</th>\n",
       "      <td>447</td>\n",
       "      <td>50</td>\n",
       "    </tr>\n",
       "  </tbody>\n",
       "</table>\n",
       "</div>"
      ]
     },
     "execution_count": 199,
     "metadata": {},
     "output_type": "execute_result"
    }
   ],
   "execution_count": 199
  },
  {
   "cell_type": "code",
   "source": [
    "## Perform one last chi-squared test\n",
    "chi2_stat, p_val, dof, expected = chi2_contingency(contingency_table_race)\n",
    "\n",
    "if p_val < 0.05:\n",
    "    print(\"There is a significant association between race and 30-day readmission. (for at risk groups)\")\n",
    "else:\n",
    "    print(\"There is no significant association between race and 30-day readmission. (for at risk groups)\")\n",
    "\n",
    "print(f\"\\nChi-squared statistic: {chi2_stat}\")\n",
    "print(f\"p-value: {p_val}\\n\")"
   ],
   "metadata": {
    "colab": {
     "base_uri": "https://localhost:8080/"
    },
    "id": "S-tI03O-053G",
    "outputId": "2412b47f-0ffd-4908-bbca-bf9ad3846b47",
    "ExecuteTime": {
     "end_time": "2024-10-03T23:39:30.617911Z",
     "start_time": "2024-10-03T23:39:30.600923Z"
    }
   },
   "outputs": [
    {
     "name": "stdout",
     "output_type": "stream",
     "text": [
      "There is no significant association between race and 30-day readmission. (for at risk groups)\n",
      "\n",
      "Chi-squared statistic: 2.1482887105584894\n",
      "p-value: 0.7085067834310648\n",
      "\n"
     ]
    }
   ],
   "execution_count": 200
  },
  {
   "cell_type": "markdown",
   "source": [
    "### Results"
   ],
   "metadata": {
    "id": "TiHWrWUQ-GSI"
   }
  },
  {
   "cell_type": "markdown",
   "source": [
    "We checked to see if there was a correlation between early readmission and race for age groups that are most at risk. It appears that there is no evidence to reject the hypothesis that are independent.\n",
    "\n",
    "There is a correlation between age and readmission, but no correlation between race and readmission (even when looking at at-risk groups). However, it should be noted that for the most at risk [20-30), there isn't enough data to get a reliable result."
   ],
   "metadata": {
    "id": "wZnApzQ63Djl"
   }
  },
  {
   "cell_type": "markdown",
   "source": [
    "## Sub-question 2a: Does the distribution of time spent in the hospital differ between patients readmitted within 30 days and those not readmitted?"
   ],
   "metadata": {
    "id": "GSSMqcJT5Hky"
   }
  },
  {
   "cell_type": "markdown",
   "source": [
    "#### Mann-Whitney Test for Time Spent in Hospital and Readmission"
   ],
   "metadata": {
    "id": "HGNGKXZHctWx"
   }
  },
  {
   "cell_type": "code",
   "source": [
    "\"\"\"\n",
    "Mann-Whitney-U Test for Independence: this code performs a non-param test to check if\n",
    "there is a significant difference in the average number of diagnoses between\n",
    "patients who were readmitted within 30 days and those who were not readmitted at all.\n",
    "\"\"\"\n",
    "readmitted = clean_df[clean_df['readmitted'] == '<30']['time_in_hospital']\n",
    "not_readmitted = clean_df[clean_df['readmitted'] == 'NO']['time_in_hospital']\n",
    "\n",
    "stat, p = mannwhitneyu(readmitted, not_readmitted)\n",
    "\n",
    "print(f\"Mann-Whitney U Test for Time Spent in Hospital and Readmission:\")\n",
    "print(f\"U statistic: {stat}\")\n",
    "print(f\"p-value: {p}\\n\")\n",
    "\n",
    "if p < 0.05:\n",
    "    print(\"There is a significant difference in time spent in the hospital between the two groups.\")\n",
    "else:\n",
    "    print(\"There is no significant difference in time spent in the hospital between the two groups.\")"
   ],
   "metadata": {
    "colab": {
     "base_uri": "https://localhost:8080/"
    },
    "id": "PkPfRcslcs1V",
    "outputId": "f40bdcd2-c496-43ea-9f9d-050915413b8d",
    "ExecuteTime": {
     "end_time": "2024-10-03T23:39:30.849972Z",
     "start_time": "2024-10-03T23:39:30.769310Z"
    }
   },
   "outputs": [
    {
     "name": "stdout",
     "output_type": "stream",
     "text": [
      "Mann-Whitney U Test for Time Spent in Hospital and Readmission:\n",
      "U statistic: 336233332.0\n",
      "p-value: 1.1535981059122244e-77\n",
      "\n",
      "There is a significant difference in time spent in the hospital between the two groups.\n"
     ]
    }
   ],
   "execution_count": 201
  },
  {
   "cell_type": "markdown",
   "source": [
    "## Sub-question 2b: Is there an association between the severity of the initial diagnosis and 30-day readmission rates?"
   ],
   "metadata": {
    "id": "JgkwelAzj5NJ"
   }
  },
  {
   "cell_type": "markdown",
   "source": [
    "#### Chi-Square Test Between `severity` and `readmitted`"
   ],
   "metadata": {
    "id": "RmPeLgclkrN6"
   }
  },
  {
   "cell_type": "code",
   "source": [
    "\"\"\"\n",
    "Create `Diagnoses` Table\n",
    "\"\"\"\n",
    "\n",
    "# this code is used to get the parent description\n",
    "def get_top_parent(node):\n",
    "    # check if already null\n",
    "    if node is None:\n",
    "        return None\n",
    "    # iterate until the parent is reached\n",
    "    while node and node.parent is not None:\n",
    "        node = node.parent\n",
    "    # return the description\n",
    "    return node.short_desc\n",
    "\n",
    "diagnoses = clean_df[[\"diag_1\", \"diag_2\", \"diag_3\"]].copy()\n",
    "\n",
    "# add the descriptions for the diagnoses\n",
    "for column in ['diag_1', 'diag_2', 'diag_3']:\n",
    "    diagnoses.loc[:, column + \"_desc\"] = diagnoses[column].apply(lambda code: get_top_parent(icd9cms.search(code)))\n",
    "\n",
    "# Based on the ICD-9 code structure, A represents the general diagnostic category,\n",
    "# while B is the more specific condition within that category for a code in the format AAA.BBB.\n",
    "diagnoses.head()"
   ],
   "metadata": {
    "colab": {
     "base_uri": "https://localhost:8080/",
     "height": 206
    },
    "id": "4Uq5S79yczCM",
    "outputId": "ef7b3400-a0a3-4682-9e6d-53c06214abbf",
    "ExecuteTime": {
     "end_time": "2024-10-03T23:39:31.239353Z",
     "start_time": "2024-10-03T23:39:30.968131Z"
    }
   },
   "outputs": [
    {
     "data": {
      "text/plain": [
       "  diag_1  diag_2 diag_3                                        diag_1_desc  \\\n",
       "1    276  250.01    255  Endocrine, Nutritional And Metabolic Diseases,...   \n",
       "2    648     250    V27  Complications Of Pregnancy, Childbirth, And Th...   \n",
       "3      8  250.43    403                                               None   \n",
       "4    197     157    250                                          Neoplasms   \n",
       "5    414     411    250                 Diseases Of The Circulatory System   \n",
       "\n",
       "                                         diag_2_desc  \\\n",
       "1  Endocrine, Nutritional And Metabolic Diseases,...   \n",
       "2  Endocrine, Nutritional And Metabolic Diseases,...   \n",
       "3  Endocrine, Nutritional And Metabolic Diseases,...   \n",
       "4                                          Neoplasms   \n",
       "5                 Diseases Of The Circulatory System   \n",
       "\n",
       "                                         diag_3_desc  \n",
       "1  Endocrine, Nutritional And Metabolic Diseases,...  \n",
       "2  Supplementary Classification Of Factors Influe...  \n",
       "3                 Diseases Of The Circulatory System  \n",
       "4  Endocrine, Nutritional And Metabolic Diseases,...  \n",
       "5  Endocrine, Nutritional And Metabolic Diseases,...  "
      ],
      "text/html": [
       "<div>\n",
       "<style scoped>\n",
       "    .dataframe tbody tr th:only-of-type {\n",
       "        vertical-align: middle;\n",
       "    }\n",
       "\n",
       "    .dataframe tbody tr th {\n",
       "        vertical-align: top;\n",
       "    }\n",
       "\n",
       "    .dataframe thead th {\n",
       "        text-align: right;\n",
       "    }\n",
       "</style>\n",
       "<table border=\"1\" class=\"dataframe\">\n",
       "  <thead>\n",
       "    <tr style=\"text-align: right;\">\n",
       "      <th></th>\n",
       "      <th>diag_1</th>\n",
       "      <th>diag_2</th>\n",
       "      <th>diag_3</th>\n",
       "      <th>diag_1_desc</th>\n",
       "      <th>diag_2_desc</th>\n",
       "      <th>diag_3_desc</th>\n",
       "    </tr>\n",
       "  </thead>\n",
       "  <tbody>\n",
       "    <tr>\n",
       "      <th>1</th>\n",
       "      <td>276</td>\n",
       "      <td>250.01</td>\n",
       "      <td>255</td>\n",
       "      <td>Endocrine, Nutritional And Metabolic Diseases,...</td>\n",
       "      <td>Endocrine, Nutritional And Metabolic Diseases,...</td>\n",
       "      <td>Endocrine, Nutritional And Metabolic Diseases,...</td>\n",
       "    </tr>\n",
       "    <tr>\n",
       "      <th>2</th>\n",
       "      <td>648</td>\n",
       "      <td>250</td>\n",
       "      <td>V27</td>\n",
       "      <td>Complications Of Pregnancy, Childbirth, And Th...</td>\n",
       "      <td>Endocrine, Nutritional And Metabolic Diseases,...</td>\n",
       "      <td>Supplementary Classification Of Factors Influe...</td>\n",
       "    </tr>\n",
       "    <tr>\n",
       "      <th>3</th>\n",
       "      <td>8</td>\n",
       "      <td>250.43</td>\n",
       "      <td>403</td>\n",
       "      <td>None</td>\n",
       "      <td>Endocrine, Nutritional And Metabolic Diseases,...</td>\n",
       "      <td>Diseases Of The Circulatory System</td>\n",
       "    </tr>\n",
       "    <tr>\n",
       "      <th>4</th>\n",
       "      <td>197</td>\n",
       "      <td>157</td>\n",
       "      <td>250</td>\n",
       "      <td>Neoplasms</td>\n",
       "      <td>Neoplasms</td>\n",
       "      <td>Endocrine, Nutritional And Metabolic Diseases,...</td>\n",
       "    </tr>\n",
       "    <tr>\n",
       "      <th>5</th>\n",
       "      <td>414</td>\n",
       "      <td>411</td>\n",
       "      <td>250</td>\n",
       "      <td>Diseases Of The Circulatory System</td>\n",
       "      <td>Diseases Of The Circulatory System</td>\n",
       "      <td>Endocrine, Nutritional And Metabolic Diseases,...</td>\n",
       "    </tr>\n",
       "  </tbody>\n",
       "</table>\n",
       "</div>"
      ]
     },
     "execution_count": 202,
     "metadata": {},
     "output_type": "execute_result"
    }
   ],
   "execution_count": 202
  },
  {
   "cell_type": "code",
   "source": [
    "# Merge `Diagnoses` Table with \"readmitted\" column in `clean_df` table\n",
    "merged_df = diagnoses.merge(clean_df['readmitted'], left_index=True, right_index=True)[[\"diag_1\", \"diag_1_desc\", \"readmitted\"]]\n",
    "merged_df.head()"
   ],
   "metadata": {
    "colab": {
     "base_uri": "https://localhost:8080/",
     "height": 206
    },
    "id": "LK3v2l06j-he",
    "outputId": "6924e520-3e82-4bfd-f961-1d91b85fb334",
    "ExecuteTime": {
     "end_time": "2024-10-03T23:39:31.503705Z",
     "start_time": "2024-10-03T23:39:31.473459Z"
    }
   },
   "outputs": [
    {
     "data": {
      "text/plain": [
       "  diag_1                                        diag_1_desc readmitted\n",
       "1    276  Endocrine, Nutritional And Metabolic Diseases,...        >30\n",
       "2    648  Complications Of Pregnancy, Childbirth, And Th...         NO\n",
       "3      8                                               None         NO\n",
       "4    197                                          Neoplasms         NO\n",
       "5    414                 Diseases Of The Circulatory System        >30"
      ],
      "text/html": [
       "<div>\n",
       "<style scoped>\n",
       "    .dataframe tbody tr th:only-of-type {\n",
       "        vertical-align: middle;\n",
       "    }\n",
       "\n",
       "    .dataframe tbody tr th {\n",
       "        vertical-align: top;\n",
       "    }\n",
       "\n",
       "    .dataframe thead th {\n",
       "        text-align: right;\n",
       "    }\n",
       "</style>\n",
       "<table border=\"1\" class=\"dataframe\">\n",
       "  <thead>\n",
       "    <tr style=\"text-align: right;\">\n",
       "      <th></th>\n",
       "      <th>diag_1</th>\n",
       "      <th>diag_1_desc</th>\n",
       "      <th>readmitted</th>\n",
       "    </tr>\n",
       "  </thead>\n",
       "  <tbody>\n",
       "    <tr>\n",
       "      <th>1</th>\n",
       "      <td>276</td>\n",
       "      <td>Endocrine, Nutritional And Metabolic Diseases,...</td>\n",
       "      <td>&gt;30</td>\n",
       "    </tr>\n",
       "    <tr>\n",
       "      <th>2</th>\n",
       "      <td>648</td>\n",
       "      <td>Complications Of Pregnancy, Childbirth, And Th...</td>\n",
       "      <td>NO</td>\n",
       "    </tr>\n",
       "    <tr>\n",
       "      <th>3</th>\n",
       "      <td>8</td>\n",
       "      <td>None</td>\n",
       "      <td>NO</td>\n",
       "    </tr>\n",
       "    <tr>\n",
       "      <th>4</th>\n",
       "      <td>197</td>\n",
       "      <td>Neoplasms</td>\n",
       "      <td>NO</td>\n",
       "    </tr>\n",
       "    <tr>\n",
       "      <th>5</th>\n",
       "      <td>414</td>\n",
       "      <td>Diseases Of The Circulatory System</td>\n",
       "      <td>&gt;30</td>\n",
       "    </tr>\n",
       "  </tbody>\n",
       "</table>\n",
       "</div>"
      ]
     },
     "execution_count": 203,
     "metadata": {},
     "output_type": "execute_result"
    }
   ],
   "execution_count": 203
  },
  {
   "cell_type": "code",
   "source": [
    "# Define severity levels for each diagnosis category\n",
    "severity_mapping = {\n",
    "    'Diseases Of The Circulatory System': 'High',\n",
    "    'Endocrine, Nutritional And Metabolic Diseases, And Immunity Disorders': 'Moderate',\n",
    "    'Other': 'Low',\n",
    "    'Diseases Of The Respiratory System': 'High',\n",
    "    'Diseases Of The Digestive System': 'Moderate',\n",
    "    'Injury And Poisoning': 'High',\n",
    "    'Symptoms, Signs, And Ill-Defined Conditions': 'Low',\n",
    "    'Diseases Of The Genitourinary System': 'Moderate',\n",
    "    'Diseases Of The Musculoskeletal System And Connective Tissue': 'Low',\n",
    "    'Mental Disorders': 'Moderate',\n",
    "    'Diseases Of The Skin And Subcutaneous Tissue': 'Low'\n",
    "}\n",
    "\n",
    "merged_df['severity'] = merged_df['diag_1_desc'].map(severity_mapping)\n",
    "\n",
    "# drop NaNs\n",
    "merged_df.dropna(inplace=True)\n",
    "\n",
    "severity_order = ['Low', 'Moderate', 'High']  # Adjust based on your actual severity levels\n",
    "merged_df['severity'] = pd.Categorical(merged_df['severity'], categories=severity_order, ordered=True)"
   ],
   "metadata": {
    "id": "KUEVEU_wkT-P",
    "ExecuteTime": {
     "end_time": "2024-10-03T23:39:31.707Z",
     "start_time": "2024-10-03T23:39:31.661714Z"
    }
   },
   "outputs": [],
   "execution_count": 204
  },
  {
   "cell_type": "code",
   "source": [
    "# Create a contingency table between severity and 30-day readmission ('readmitted' == '<30')\n",
    "contingency_table_age = pd.crosstab(merged_df['severity'], merged_df['readmitted'] == '<30')\n",
    "\n",
    "# Perform Chi-Squared test\n",
    "chi2_stat, p_val, dof, expected = chi2_contingency(contingency_table_age)\n",
    "\n",
    "# print results\n",
    "print(f\"Chi-Squared Test for Severity:\")\n",
    "print(f\"Chi-squared statistic: {chi2_stat}\")\n",
    "print(f\"p-value: {p_val}\\n\")\n",
    "\n",
    "if p_val < 0.05:\n",
    "    print(\"There is a significant association between severity and 30-day readmission.\")\n",
    "else:\n",
    "    print(\"There is no significant association between severity and 30-day readmission.\")"
   ],
   "metadata": {
    "colab": {
     "base_uri": "https://localhost:8080/"
    },
    "id": "XEaxFqd8kcnj",
    "outputId": "78607da2-0289-4af4-867c-a87eebe87245",
    "ExecuteTime": {
     "end_time": "2024-10-03T23:39:31.846873Z",
     "start_time": "2024-10-03T23:39:31.813925Z"
    }
   },
   "outputs": [
    {
     "name": "stdout",
     "output_type": "stream",
     "text": [
      "Chi-Squared Test for Severity:\n",
      "Chi-squared statistic: 61.3312203172202\n",
      "p-value: 4.809442357025884e-14\n",
      "\n",
      "There is a significant association between severity and 30-day readmission.\n"
     ]
    }
   ],
   "execution_count": 205
  },
  {
   "cell_type": "code",
   "source": [
    "## create a logistical model to determine which severities are associated\n",
    "# Define the binary outcome\n",
    "y = merged_df['readmitted'] == '<30'\n",
    "y = y.astype(int)\n",
    "\n",
    "# Ensure the severity is ordered correctly (optional, based on your data)\n",
    "# Create dummy variables for 'severity', dropping the first category to avoid multicollinearity\n",
    "X = pd.get_dummies(merged_df['severity'], drop_first=True)\n",
    "X = X.astype(int)"
   ],
   "metadata": {
    "id": "j2GZKrVrkh9J",
    "ExecuteTime": {
     "end_time": "2024-10-03T23:39:31.908877Z",
     "start_time": "2024-10-03T23:39:31.883511Z"
    }
   },
   "outputs": [],
   "execution_count": 206
  },
  {
   "cell_type": "code",
   "source": [
    "print(X.describe())\n",
    "print(y.value_counts())"
   ],
   "metadata": {
    "colab": {
     "base_uri": "https://localhost:8080/"
    },
    "id": "qrNZ0cHrcB8M",
    "outputId": "a8f6688a-58c2-4316-bce0-1eb993930cef",
    "ExecuteTime": {
     "end_time": "2024-10-03T23:39:32.144730Z",
     "start_time": "2024-10-03T23:39:32.115044Z"
    }
   },
   "outputs": [
    {
     "name": "stdout",
     "output_type": "stream",
     "text": [
      "           Moderate          High\n",
      "count  89455.000000  89455.000000\n",
      "mean       0.303750      0.529518\n",
      "std        0.459879      0.499131\n",
      "min        0.000000      0.000000\n",
      "25%        0.000000      0.000000\n",
      "50%        0.000000      1.000000\n",
      "75%        1.000000      1.000000\n",
      "max        1.000000      1.000000\n",
      "readmitted\n",
      "0    79440\n",
      "1    10015\n",
      "Name: count, dtype: int64\n"
     ]
    }
   ],
   "execution_count": 207
  },
  {
   "cell_type": "code",
   "source": [
    "# Add an intercept to the model\n",
    "X = sm.add_constant(X)\n",
    "\n",
    "# Fit the logistic regression model\n",
    "model = sm.Logit(y, X).fit()\n",
    "\n",
    "# Print the summary of the model\n",
    "print(model.summary())"
   ],
   "metadata": {
    "colab": {
     "base_uri": "https://localhost:8080/"
    },
    "id": "2Rn9Y6ixW_sT",
    "outputId": "de3b9f79-f3c4-415d-860b-8fa45b0e7ce0",
    "ExecuteTime": {
     "end_time": "2024-10-03T23:39:32.612352Z",
     "start_time": "2024-10-03T23:39:32.336034Z"
    }
   },
   "outputs": [
    {
     "name": "stdout",
     "output_type": "stream",
     "text": [
      "Optimization terminated successfully.\n",
      "         Current function value: 0.350229\n",
      "         Iterations 6\n",
      "                           Logit Regression Results                           \n",
      "==============================================================================\n",
      "Dep. Variable:             readmitted   No. Observations:                89455\n",
      "Model:                          Logit   Df Residuals:                    89452\n",
      "Method:                           MLE   Df Model:                            2\n",
      "Date:                Thu, 03 Oct 2024   Pseudo R-squ.:                0.001016\n",
      "Time:                        17:39:32   Log-Likelihood:                -31330.\n",
      "converged:                       True   LL-Null:                       -31362.\n",
      "Covariance Type:            nonrobust   LLR p-value:                 1.448e-14\n",
      "==============================================================================\n",
      "                 coef    std err          z      P>|z|      [0.025      0.975]\n",
      "------------------------------------------------------------------------------\n",
      "const         -2.2681      0.028    -80.758      0.000      -2.323      -2.213\n",
      "Moderate       0.2540      0.034      7.513      0.000       0.188       0.320\n",
      "High           0.2212      0.032      7.003      0.000       0.159       0.283\n",
      "==============================================================================\n"
     ]
    }
   ],
   "execution_count": 208
  },
  {
   "cell_type": "code",
   "source": [
    "plot_odds_ratios(model, title='Odds Ratios for Severity Groups', ylabel='Severity Groups', significance_level=0.05, figsize=(8, 3), name='severity-odds')"
   ],
   "metadata": {
    "colab": {
     "base_uri": "https://localhost:8080/",
     "height": 515
    },
    "id": "wMD1jmoOUfOE",
    "outputId": "2c936f51-85bf-4566-b1a8-fb45a5423133",
    "ExecuteTime": {
     "end_time": "2024-10-03T23:39:33.206544Z",
     "start_time": "2024-10-03T23:39:32.787263Z"
    }
   },
   "outputs": [
    {
     "data": {
      "text/plain": [
       "<Figure size 800x300 with 1 Axes>"
      ],
      "image/png": "[encoded data removed]"
     },
     "metadata": {},
     "output_type": "display_data"
    }
   ],
   "execution_count": 209
  },
  {
   "cell_type": "code",
   "source": [
    "print(\"\\nModel odds compared to reference group (low severity)\")\n",
    "print(np.exp(model.params))"
   ],
   "metadata": {
    "colab": {
     "base_uri": "https://localhost:8080/"
    },
    "id": "58x1Ien2dDel",
    "outputId": "07f1e16e-8151-4ada-8a9e-65c51450d93f",
    "ExecuteTime": {
     "end_time": "2024-10-03T23:39:33.410834Z",
     "start_time": "2024-10-03T23:39:33.397348Z"
    }
   },
   "outputs": [
    {
     "name": "stdout",
     "output_type": "stream",
     "text": [
      "\n",
      "Model odds compared to reference group (low severity)\n",
      "const       0.103507\n",
      "Moderate    1.289206\n",
      "High        1.247518\n",
      "dtype: float64\n"
     ]
    }
   ],
   "execution_count": 210
  },
  {
   "cell_type": "markdown",
   "source": [
    "#### Results\n",
    "\n",
    "Compared to the low severity, diabetes patients with a moderate and high severity for their primary diganoses are 1.29x and 1.25x (respectively) more likely to be readmitted in less than 30 days."
   ],
   "metadata": {
    "id": "_yvKnNz9dE2y"
   }
  },
  {
   "cell_type": "markdown",
   "source": "## Sub-question 3: Do 30-day readmission rates differ between medication groups?",
   "metadata": {
    "id": "uczXdU0W9fNU"
   }
  },
  {
   "cell_type": "markdown",
   "source": [
    "### Chi-Squared Test for Medication Groups and Readmission:"
   ],
   "metadata": {
    "id": "LdzM2HkT-8jb"
   }
  },
  {
   "cell_type": "markdown",
   "source": "#### Approach 1: Considers 'steady', 'up', and 'down' as 1 and No as 0.",
   "metadata": {
    "id": "0hjmsV32ffqs"
   }
  },
  {
   "cell_type": "code",
   "source": [
    "# Select medication columns (19 to 28) from clean_df\n",
    "medications = clean_df.iloc[:, 18:29]\n",
    "\n",
    "# include readmission\n",
    "medications.loc[:, 'readmitted_less_30'] = clean_df['readmitted'].replace(['<30', '>30', 'NO'], ['1', '0', '0'])\n",
    "\n",
    "# drop medications less than 350\n",
    "medications = medications.drop([\"chlorpropamide\", \"acarbose\"] , axis=1)\n",
    "\n",
    "# Replace categorical values: 'No' → 0, 'Down', 'Steady', 'Up' → 1\n",
    "medications = medications.replace(['No', 'Down', 'Steady', 'Up'], [0, 1, 1, 1])\n",
    "\n",
    "# Get top 10 most frequent primary diagnoses\n",
    "top_diag = diagnoses['diag_1_desc'].value_counts().nlargest(10).index\n",
    "\n",
    "# Merge medications with diagnoses on their index\n",
    "medications = medications.merge(diagnoses[['diag_1_desc']], left_index=True, right_index=True)\n",
    "\n",
    "# Filter to include only top diagnoses\n",
    "medications = medications[medications['diag_1_desc'].isin(top_diag)]\n",
    "\n",
    "# Transform DataFrame from wide to long format\n",
    "medications = medications.melt(id_vars=['readmitted_less_30'], var_name='Medication', value_name='Value')\n",
    "\n",
    "# Keep only medications that are used (Value == 1) and drop 'Value'\n",
    "medications = medications[medications['Value'] == 1].drop('Value', axis=1)\n",
    "\n",
    "# Reset index\n",
    "medications = medications.reset_index(drop=True)\n",
    "\n",
    "# Assign medication groups\n",
    "def get_group(medication_name):\n",
    "    medication_name = medication_name.lower()\n",
    "    medication_groups = {\n",
    "        'Sulfonylureas': ['chlorpropamide', 'glimepiride', 'glipizide', 'glyburide'],\n",
    "        'Meglitinides': ['nateglinide', 'repaglinide'],\n",
    "        'Thiazolidinediones': ['pioglitazone', 'rosiglitazone'],\n",
    "        'Insulin': ['insulin'],\n",
    "        'Alpha-glucosidase Inhibitors': ['acarbose'],\n",
    "        'Metformin': ['metformin'],\n",
    "    }\n",
    "    for group, medications in medication_groups.items():\n",
    "        if medication_name in medications:\n",
    "            return group\n",
    "    return 'unknown'\n",
    "\n",
    "medications.loc[:, 'Group'] = medications['Medication'].apply(get_group)\n",
    "\n",
    "medications"
   ],
   "metadata": {
    "colab": {
     "base_uri": "https://localhost:8080/",
     "height": 424
    },
    "id": "tWH4HFaTeq9s",
    "outputId": "a5702e0d-674b-4334-ed06-e1136c51bb19",
    "ExecuteTime": {
     "end_time": "2024-10-03T23:39:34.248547Z",
     "start_time": "2024-10-03T23:39:33.599951Z"
    }
   },
   "outputs": [
    {
     "data": {
      "text/plain": [
       "       readmitted_less_30 Medication      Group\n",
       "0                       0  metformin  Metformin\n",
       "1                       1  metformin  Metformin\n",
       "2                       0  metformin  Metformin\n",
       "3                       0  metformin  Metformin\n",
       "4                       0  metformin  Metformin\n",
       "...                   ...        ...        ...\n",
       "106004                  0    insulin    Insulin\n",
       "106005                  0    insulin    Insulin\n",
       "106006                  0    insulin    Insulin\n",
       "106007                  0    insulin    Insulin\n",
       "106008                  0    insulin    Insulin\n",
       "\n",
       "[106009 rows x 3 columns]"
      ],
      "text/html": [
       "<div>\n",
       "<style scoped>\n",
       "    .dataframe tbody tr th:only-of-type {\n",
       "        vertical-align: middle;\n",
       "    }\n",
       "\n",
       "    .dataframe tbody tr th {\n",
       "        vertical-align: top;\n",
       "    }\n",
       "\n",
       "    .dataframe thead th {\n",
       "        text-align: right;\n",
       "    }\n",
       "</style>\n",
       "<table border=\"1\" class=\"dataframe\">\n",
       "  <thead>\n",
       "    <tr style=\"text-align: right;\">\n",
       "      <th></th>\n",
       "      <th>readmitted_less_30</th>\n",
       "      <th>Medication</th>\n",
       "      <th>Group</th>\n",
       "    </tr>\n",
       "  </thead>\n",
       "  <tbody>\n",
       "    <tr>\n",
       "      <th>0</th>\n",
       "      <td>0</td>\n",
       "      <td>metformin</td>\n",
       "      <td>Metformin</td>\n",
       "    </tr>\n",
       "    <tr>\n",
       "      <th>1</th>\n",
       "      <td>1</td>\n",
       "      <td>metformin</td>\n",
       "      <td>Metformin</td>\n",
       "    </tr>\n",
       "    <tr>\n",
       "      <th>2</th>\n",
       "      <td>0</td>\n",
       "      <td>metformin</td>\n",
       "      <td>Metformin</td>\n",
       "    </tr>\n",
       "    <tr>\n",
       "      <th>3</th>\n",
       "      <td>0</td>\n",
       "      <td>metformin</td>\n",
       "      <td>Metformin</td>\n",
       "    </tr>\n",
       "    <tr>\n",
       "      <th>4</th>\n",
       "      <td>0</td>\n",
       "      <td>metformin</td>\n",
       "      <td>Metformin</td>\n",
       "    </tr>\n",
       "    <tr>\n",
       "      <th>...</th>\n",
       "      <td>...</td>\n",
       "      <td>...</td>\n",
       "      <td>...</td>\n",
       "    </tr>\n",
       "    <tr>\n",
       "      <th>106004</th>\n",
       "      <td>0</td>\n",
       "      <td>insulin</td>\n",
       "      <td>Insulin</td>\n",
       "    </tr>\n",
       "    <tr>\n",
       "      <th>106005</th>\n",
       "      <td>0</td>\n",
       "      <td>insulin</td>\n",
       "      <td>Insulin</td>\n",
       "    </tr>\n",
       "    <tr>\n",
       "      <th>106006</th>\n",
       "      <td>0</td>\n",
       "      <td>insulin</td>\n",
       "      <td>Insulin</td>\n",
       "    </tr>\n",
       "    <tr>\n",
       "      <th>106007</th>\n",
       "      <td>0</td>\n",
       "      <td>insulin</td>\n",
       "      <td>Insulin</td>\n",
       "    </tr>\n",
       "    <tr>\n",
       "      <th>106008</th>\n",
       "      <td>0</td>\n",
       "      <td>insulin</td>\n",
       "      <td>Insulin</td>\n",
       "    </tr>\n",
       "  </tbody>\n",
       "</table>\n",
       "<p>106009 rows × 3 columns</p>\n",
       "</div>"
      ]
     },
     "execution_count": 211,
     "metadata": {},
     "output_type": "execute_result"
    }
   ],
   "execution_count": 211
  },
  {
   "cell_type": "code",
   "source": [
    "crosstable = pd.crosstab(medications['readmitted_less_30'], medications['Group'])\n",
    "chi2, p, dof, expected = chi2_contingency(crosstable)\n",
    "\n",
    "print(f\"Chi-Squared Statistic: {chi2}\")\n",
    "print(f\"P-Value: {p}\")\n",
    "print(f\"Degrees of Freedom: {dof}\")\n",
    "\n",
    "if p < 0.05:\n",
    "    print(\"There is a significant association between readmission and medication group.\")\n",
    "else:\n",
    "    print(\"There is no significant association between readmission and medication group.\")"
   ],
   "metadata": {
    "colab": {
     "base_uri": "https://localhost:8080/"
    },
    "id": "NnTAwouHew5g",
    "outputId": "4a877089-245a-429c-b9cc-79501e1e3974",
    "ExecuteTime": {
     "end_time": "2024-10-03T23:39:34.512605Z",
     "start_time": "2024-10-03T23:39:34.467683Z"
    }
   },
   "outputs": [
    {
     "name": "stdout",
     "output_type": "stream",
     "text": [
      "Chi-Squared Statistic: 94.48262321530039\n",
      "P-Value: 1.4681761269754241e-19\n",
      "Degrees of Freedom: 4\n",
      "There is a significant association between readmission and medication group.\n"
     ]
    }
   ],
   "execution_count": 212
  },
  {
   "cell_type": "code",
   "source": [
    "## Create a logistical model to determine which medication groups are associated\n",
    "# Define the binary outcome\n",
    "y = medications['readmitted_less_30']\n",
    "y = y.astype(int)\n",
    "\n",
    "# Ensure the medications is ordered correctly (optional, based on your data)\n",
    "# Create dummy variables for 'medications', dropping the first category to avoid multicollinearity\n",
    "X = pd.get_dummies(medications['Group']).drop('Metformin', axis=1)\n",
    "X = X.astype(int)\n",
    "\n",
    "# Add an intercept to the model\n",
    "X = sm.add_constant(X)\n",
    "\n",
    "# Fit the logistic regression model\n",
    "model = sm.Logit(y, X).fit()\n",
    "\n",
    "# Print the summary of the model\n",
    "print(model.summary())"
   ],
   "metadata": {
    "colab": {
     "base_uri": "https://localhost:8080/"
    },
    "id": "weaJ8H4ufthq",
    "outputId": "7b82cea5-b3e5-4150-8093-70f3205b6145",
    "ExecuteTime": {
     "end_time": "2024-10-03T23:39:34.901550Z",
     "start_time": "2024-10-03T23:39:34.573698Z"
    }
   },
   "outputs": [
    {
     "name": "stdout",
     "output_type": "stream",
     "text": [
      "Optimization terminated successfully.\n",
      "         Current function value: 0.351377\n",
      "         Iterations 6\n",
      "                           Logit Regression Results                           \n",
      "==============================================================================\n",
      "Dep. Variable:     readmitted_less_30   No. Observations:               106009\n",
      "Model:                          Logit   Df Residuals:                   106004\n",
      "Method:                           MLE   Df Model:                            4\n",
      "Date:                Thu, 03 Oct 2024   Pseudo R-squ.:                0.001280\n",
      "Time:                        17:39:34   Log-Likelihood:                -37249.\n",
      "converged:                       True   LL-Null:                       -37297.\n",
      "Covariance Type:            nonrobust   LLR p-value:                 8.894e-20\n",
      "======================================================================================\n",
      "                         coef    std err          z      P>|z|      [0.025      0.975]\n",
      "--------------------------------------------------------------------------------------\n",
      "const                 -2.2306      0.026    -87.418      0.000      -2.281      -2.181\n",
      "Insulin                0.2496      0.029      8.589      0.000       0.193       0.307\n",
      "Meglitinides           0.3190      0.071      4.467      0.000       0.179       0.459\n",
      "Sulfonylureas          0.1331      0.032      4.106      0.000       0.070       0.197\n",
      "Thiazolidinediones     0.0831      0.039      2.130      0.033       0.007       0.159\n",
      "======================================================================================\n"
     ]
    }
   ],
   "execution_count": 213
  },
  {
   "cell_type": "code",
   "source": [
    "plot_odds_ratios(model, title='Odds Ratios for Medicine Groups', ylabel='Medicine Groups', significance_level=0.05, figsize=(8, 3))"
   ],
   "metadata": {
    "colab": {
     "base_uri": "https://localhost:8080/",
     "height": 515
    },
    "id": "u7WEo_xagiT9",
    "outputId": "a57b7aca-c730-48de-89a0-67b042511014",
    "ExecuteTime": {
     "end_time": "2024-10-03T23:39:35.197053Z",
     "start_time": "2024-10-03T23:39:34.918690Z"
    }
   },
   "outputs": [
    {
     "data": {
      "text/plain": [
       "<Figure size 800x300 with 1 Axes>"
      ],
      "image/png": "[encoded data removed]"
     },
     "metadata": {},
     "output_type": "display_data"
    }
   ],
   "execution_count": 214
  },
  {
   "cell_type": "code",
   "source": [
    "print(\"\\nModel odds compared to reference group (Metaformin)\")\n",
    "print(np.exp(model.params))"
   ],
   "metadata": {
    "colab": {
     "base_uri": "https://localhost:8080/"
    },
    "id": "vB_YSOn9glLv",
    "outputId": "37cc118a-451a-48c9-8d71-d098b8a09597",
    "ExecuteTime": {
     "end_time": "2024-10-03T23:39:35.398413Z",
     "start_time": "2024-10-03T23:39:35.384793Z"
    }
   },
   "outputs": [
    {
     "name": "stdout",
     "output_type": "stream",
     "text": [
      "\n",
      "Model odds compared to reference group (Metaformin)\n",
      "const                 0.107468\n",
      "Insulin               1.283524\n",
      "Meglitinides          1.375771\n",
      "Sulfonylureas         1.142391\n",
      "Thiazolidinediones    1.086611\n",
      "dtype: float64\n"
     ]
    }
   ],
   "execution_count": 215
  },
  {
   "cell_type": "markdown",
   "source": "#### Approach 2: including all variables for medication",
   "metadata": {
    "id": "FUKgaY8Zfama"
   }
  },
  {
   "cell_type": "code",
   "source": [
    "my_df = clean_df.copy()\n",
    "\n",
    "# Features Selected Based on Statistical Results:\n",
    "selected_features = ['age', 'time_in_hospital', 'severity', 'medication_group']"
   ],
   "metadata": {
    "id": "JF9LPSrUH4Qn",
    "ExecuteTime": {
     "end_time": "2024-10-04T00:18:59.218869Z",
     "start_time": "2024-10-04T00:18:59.019736Z"
    }
   },
   "outputs": [],
   "execution_count": 226
  },
  {
   "cell_type": "code",
   "source": [
    "\"\"\"\n",
    "This code adds the severity column to the dataframe.\n",
    "\"\"\"\n",
    "## Diagnosis Type\n",
    "# this code is used to get the parent description\n",
    "def get_top_parent(node):\n",
    "    # check if already null\n",
    "    if node is None:\n",
    "        return None\n",
    "    # iterate until the parent is reached\n",
    "    while node and node.parent is not None:\n",
    "        node = node.parent\n",
    "    # return the description\n",
    "    return node.short_desc\n",
    "\n",
    "# add the descriptions for the diagnoses\n",
    "for column in ['diag_1', 'diag_2', 'diag_3']:\n",
    "    my_df.loc[:, column + \"_desc\"] = my_df[column].apply(lambda code: get_top_parent(icd9cms.search(code)))\n",
    "\n",
    "## PRIMARY DIAG (DIAG_1) SEVERITY VARIABLE\n",
    "# Define severity levels for each diagnosis category\n",
    "severity_mapping = {\n",
    "    'Diseases Of The Circulatory System': 'High',\n",
    "    'Endocrine, Nutritional And Metabolic Diseases, And Immunity Disorders': 'Moderate',\n",
    "    'Other': 'Low',\n",
    "    'Diseases Of The Respiratory System': 'High',\n",
    "    'Diseases Of The Digestive System': 'Moderate',\n",
    "    'Injury And Poisoning': 'High',\n",
    "    'Symptoms, Signs, And Ill-Defined Conditions': 'Low',\n",
    "    'Diseases Of The Genitourinary System': 'Moderate',\n",
    "    'Diseases Of The Musculoskeletal System And Connective Tissue': 'Low',\n",
    "    'Mental Disorders': 'Moderate',\n",
    "    'Diseases Of The Skin And Subcutaneous Tissue': 'Low'\n",
    "}\n",
    "\n",
    "my_df['severity'] = my_df['diag_1_desc'].map(severity_mapping)\n",
    "\n",
    "# drop NaNs\n",
    "my_df.dropna(inplace=True)\n",
    "\n",
    "severity_order = ['Low', 'Moderate', 'High']  # Adjust based on your actual severity levels\n",
    "my_df['severity'] = pd.Categorical(my_df['severity'], categories=severity_order, ordered=True)"
   ],
   "metadata": {
    "id": "cbRJdIJcITdO",
    "ExecuteTime": {
     "end_time": "2024-10-04T00:19:00.320451Z",
     "start_time": "2024-10-04T00:18:59.874851Z"
    }
   },
   "outputs": [],
   "execution_count": 227
  },
  {
   "cell_type": "code",
   "source": [
    "choices = [\n",
    "    'Insulin and Metformin',\n",
    "    'Insulin only',\n",
    "    'Metformin only',\n",
    "    'Sulfonylureas only',\n",
    "    'Meglitinides only',\n",
    "    'TZDs only',\n",
    "    'Glyburide-metformin',\n",
    "    'Other medications',\n",
    "    'No medications'\n",
    "]\n",
    "\n",
    "medication_columns = ['metformin', 'repaglinide', 'nateglinide', 'chlorpropamide',\n",
    "                      'glimepiride', 'glipizide', 'glyburide', 'pioglitazone',\n",
    "                      'rosiglitazone', 'acarbose', 'insulin', 'glyburide-metformin']\n",
    "\n",
    "# Define medication groups\n",
    "sulfonylureas = ['glipizide', 'glyburide', 'glimepiride']\n",
    "meglitinides = ['repaglinide', 'nateglinide']\n",
    "tzds = ['pioglitazone', 'rosiglitazone']\n",
    "other_meds = ['chlorpropamide', 'acarbose']\n",
    "\n",
    "# Create conditions for each medication group\n",
    "conditions = [\n",
    "    # Insulin and Metformin\n",
    "    (my_df['insulin'] != 'No') & (my_df['metformin'] != 'No') &\n",
    "    (my_df[[col for col in medication_columns if col not in ['insulin', 'metformin']]].eq('No').all(axis=1)),\n",
    "\n",
    "    # Insulin only\n",
    "    (my_df['insulin'] != 'No') & (my_df['metformin'] == 'No') &\n",
    "    (my_df[[col for col in medication_columns if col != 'insulin']].eq('No').all(axis=1)),\n",
    "\n",
    "    # Metformin only\n",
    "    (my_df['metformin'] != 'No') & (my_df['insulin'] == 'No') &\n",
    "    (my_df[[col for col in medication_columns if col != 'metformin']].eq('No').all(axis=1)),\n",
    "\n",
    "    # Sulfonylureas only\n",
    "    (my_df[sulfonylureas].apply(lambda x: (x != 'No').any(), axis=1)) &\n",
    "    (my_df[[col for col in medication_columns if col not in sulfonylureas]].eq('No').all(axis=1)),\n",
    "\n",
    "    # Meglitinides only\n",
    "    (my_df[meglitinides].apply(lambda x: (x != 'No').any(), axis=1)) &\n",
    "    (my_df[[col for col in medication_columns if col not in meglitinides]].eq('No').all(axis=1)),\n",
    "\n",
    "    # TZDs only\n",
    "    (my_df[tzds].apply(lambda x: (x != 'No').any(), axis=1)) &\n",
    "    (my_df[[col for col in medication_columns if col not in tzds]].eq('No').all(axis=1)),\n",
    "\n",
    "    # Glyburide-metformin combination only\n",
    "    (my_df['glyburide-metformin'] != 'No') &\n",
    "    (my_df[[col for col in medication_columns if col != 'glyburide-metformin']].eq('No').all(axis=1)),\n",
    "\n",
    "    # Other medications only\n",
    "    (my_df[other_meds].apply(lambda x: (x != 'No').any(), axis=1)) &\n",
    "    (my_df[[col for col in medication_columns if col not in other_meds]].eq('No').all(axis=1)),\n",
    "\n",
    "    # No medications\n",
    "    (my_df[medication_columns].eq('No').all(axis=1)),\n",
    "]\n",
    "\n",
    "# Apply the conditions to create a new column 'medication_group'\n",
    "my_df['medication_group'] = np.select(conditions, choices, default='Multiple Medications')\n",
    "\n",
    "# Convert 'readmitted' column to binary\n",
    "my_df['readmission_binary'] = my_df['readmitted'].apply(lambda x: 1 if x == '<30' else 0)"
   ],
   "metadata": {
    "id": "rR7sLIa8IXX8",
    "ExecuteTime": {
     "end_time": "2024-10-04T00:21:42.989035Z",
     "start_time": "2024-10-04T00:20:58.523944Z"
    }
   },
   "outputs": [],
   "execution_count": 230
  },
  {
   "cell_type": "code",
   "source": [
    "crosstable = pd.crosstab(my_df['medication_group'], my_df['readmitted'])\n",
    "\n",
    "# Perform the chi-square test of independence\n",
    "chi2, p, dof, expected = chi2_contingency(crosstable)\n",
    "\n",
    "# print(crosstable,\"\\n\")\n",
    "\n",
    "# Print the results\n",
    "print(\"Chi-Squared Statistic:\", chi2)\n",
    "print(\"P-Value:\", p)\n",
    "print(\"Degrees of Freedom:\", dof)\n",
    "print(\"\\nExpected Frequencies Table:\")\n",
    "print(expected)\n",
    "\n",
    "# Interpret the result\n",
    "if p < 0.05:\n",
    "    print(\"\\nReject the null hypothesis: There is an association between medication group and readmission category.\")\n",
    "else:\n",
    "    print(\"\\nFail to reject the null hypothesis: There is no association between medication group and readmission category.\")"
   ],
   "metadata": {
    "colab": {
     "base_uri": "https://localhost:8080/"
    },
    "id": "PvsF1NK5Y8bS",
    "outputId": "c60f641d-970d-4199-bd6a-6e22c58bc458",
    "ExecuteTime": {
     "end_time": "2024-10-03T23:40:16.868119Z",
     "start_time": "2024-10-03T23:40:16.823560Z"
    }
   },
   "outputs": [
    {
     "name": "stdout",
     "output_type": "stream",
     "text": [
      "Chi-Squared Statistic: 506.10519768323405\n",
      "P-Value: 5.428910733129955e-96\n",
      "Degrees of Freedom: 18\n",
      "\n",
      "Expected Frequencies Table:\n",
      "[[1.91470609e+01 6.11159507e+01 9.07369884e+01]\n",
      " [4.08582603e+02 1.30416435e+03 1.93625305e+03]\n",
      " [2.92334190e+03 9.33108328e+03 1.38535748e+04]\n",
      " [5.32982513e+01 1.70123933e+02 2.52577816e+02]\n",
      " [4.30193028e+02 1.37314317e+03 2.03866380e+03]\n",
      " [2.56794558e+03 8.19668546e+03 1.21693690e+04]\n",
      " [2.21478868e+03 7.06943570e+03 1.04957756e+04]\n",
      " [9.29360264e+00 2.96644673e+01 4.40419301e+01]\n",
      " [8.45605869e+02 2.69910912e+03 4.00728501e+03]\n",
      " [2.34803431e+02 7.49474554e+02 1.11272202e+03]]\n",
      "\n",
      "Reject the null hypothesis: There is an association between medication group and readmission category.\n"
     ]
    }
   ],
   "execution_count": 219
  },
  {
   "cell_type": "markdown",
   "source": [],
   "metadata": {
    "id": "5t0j-IkrY78W"
   }
  },
  {
   "cell_type": "code",
   "source": [
    "X = pd.get_dummies(my_df['medication_group'], drop_first=True)\n",
    "X = X.astype(int)  # Convert bools to int (1 or 0)\n",
    "\n",
    "# drop the 'No Medications' column to set it as the reference category\n",
    "X = X.drop('No medications', axis=1)\n",
    "\n",
    "X = sm.add_constant(X)\n",
    "\n",
    "y = my_df['readmission_binary']\n",
    "\n",
    "if X.isnull().values.any() or y.isnull().values.any():\n",
    "    print(\"NaN values found. Dropping NaN entries.\")\n",
    "    X = X.dropna()\n",
    "    y = y.dropna()\n",
    "\n",
    "try:\n",
    "    model = sm.Logit(y, X)\n",
    "    result = model.fit()\n",
    "\n",
    "    print(result.summary())\n",
    "\n",
    "    odds_ratios = pd.DataFrame({\n",
    "        'OR': np.exp(result.params),\n",
    "        '95% CI Lower': np.exp(result.conf_int()[0]),\n",
    "        '95% CI Upper': np.exp(result.conf_int()[1])\n",
    "    })\n",
    "\n",
    "    print(\"\\nOdds Ratios and 95% Confidence Intervals:\")\n",
    "    print(odds_ratios)\n",
    "\n",
    "except ValueError as e:\n",
    "    print(\"Error in fitting the model:\", e)"
   ],
   "metadata": {
    "colab": {
     "base_uri": "https://localhost:8080/"
    },
    "id": "YH9vzt9pIbt2",
    "outputId": "7927f9fb-2d58-4172-8156-33270dfd1fd5",
    "ExecuteTime": {
     "end_time": "2024-10-04T00:31:36.147185Z",
     "start_time": "2024-10-04T00:31:35.852187Z"
    }
   },
   "outputs": [
    {
     "name": "stdout",
     "output_type": "stream",
     "text": [
      "Optimization terminated successfully.\n",
      "         Current function value: 0.349650\n",
      "         Iterations 7\n",
      "                           Logit Regression Results                           \n",
      "==============================================================================\n",
      "Dep. Variable:     readmission_binary   No. Observations:                86692\n",
      "Model:                          Logit   Df Residuals:                    86683\n",
      "Method:                           MLE   Df Model:                            8\n",
      "Date:                Thu, 03 Oct 2024   Pseudo R-squ.:                0.002757\n",
      "Time:                        18:31:36   Log-Likelihood:                -30312.\n",
      "converged:                       True   LL-Null:                       -30396.\n",
      "Covariance Type:            nonrobust   LLR p-value:                 4.063e-32\n",
      "=========================================================================================\n",
      "                            coef    std err          z      P>|z|      [0.025      0.975]\n",
      "-----------------------------------------------------------------------------------------\n",
      "const                    -2.2357      0.024    -93.284      0.000      -2.283      -2.189\n",
      "Insulin and Metformin     0.0539      0.060      0.901      0.367      -0.063       0.171\n",
      "Insulin only              0.3371      0.030     11.161      0.000       0.278       0.396\n",
      "Meglitinides only         0.1587      0.148      1.074      0.283      -0.131       0.448\n",
      "Metformin only           -0.0122      0.060     -0.205      0.838      -0.130       0.105\n",
      "Multiple Medications      0.1104      0.032      3.435      0.001       0.047       0.173\n",
      "Other medications        -1.0477      0.589     -1.780      0.075      -2.201       0.106\n",
      "Sulfonylureas only        0.2505      0.043      5.870      0.000       0.167       0.334\n",
      "TZDs only                 0.1319      0.074      1.780      0.075      -0.013       0.277\n",
      "=========================================================================================\n",
      "\n",
      "Odds Ratios and 95% Confidence Intervals:\n",
      "                             OR  95% CI Lower  95% CI Upper\n",
      "const                  0.106913      0.102007      0.112055\n",
      "Insulin and Metformin  1.055431      0.938609      1.186792\n",
      "Insulin only           1.400930      1.320394      1.486377\n",
      "Meglitinides only      1.171939      0.877421      1.565315\n",
      "Metformin only         0.987827      0.878418      1.110863\n",
      "Multiple Medications   1.116674      1.048530      1.189246\n",
      "Other medications      0.350752      0.110666      1.111700\n",
      "Sulfonylureas only     1.284684      1.181592      1.396770\n",
      "TZDs only              1.141025      0.986721      1.319458\n"
     ]
    }
   ],
   "execution_count": 233
  },
  {
   "metadata": {
    "ExecuteTime": {
     "end_time": "2024-10-04T00:31:38.803765Z",
     "start_time": "2024-10-04T00:31:38.230763Z"
    }
   },
   "cell_type": "code",
   "source": "plot_odds_ratios(result, title='Odds Ratios for Medicine Groups', ylabel='Medicine Groups', significance_level=0.05, figsize=(8, 3), name=\"medicine_odds\")",
   "outputs": [
    {
     "data": {
      "text/plain": [
       "<Figure size 800x300 with 1 Axes>"
      ],
      "image/png": "[encoded data removed]"
     },
     "metadata": {},
     "output_type": "display_data"
    }
   ],
   "execution_count": 234
  }
 ]
}
